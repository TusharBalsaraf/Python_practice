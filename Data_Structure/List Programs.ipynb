{
 "cells": [
  {
   "cell_type": "code",
   "execution_count": 13,
   "id": "cd5e56a3",
   "metadata": {},
   "outputs": [
    {
     "name": "stdout",
     "output_type": "stream",
     "text": [
      "['Tushar', '24', 'IT', 'Kalyan']\n",
      "('Tushar', '24', 'IT', 'Kalyan')\n"
     ]
    }
   ],
   "source": [
    "#1 Create list of your name,age, field ,location using [] and list constructor\n",
    "name=\"Tushar\"\n",
    "age=\"24\"\n",
    "field=\"IT\"\n",
    "location=\"Kalyan\"\n",
    "List1=[name,age,field,location]\n",
    "List2=((name,age,field,location))\n",
    "print(List1)\n",
    "print(List2)"
   ]
  },
  {
   "cell_type": "code",
   "execution_count": 14,
   "id": "481e1568",
   "metadata": {},
   "outputs": [
    {
     "name": "stdout",
     "output_type": "stream",
     "text": [
      "IT\n"
     ]
    }
   ],
   "source": [
    "#2 print only your field using index method \n",
    "name=\"Tushar\"\n",
    "age=\"24\"\n",
    "field=\"IT\"\n",
    "location=\"Kalyan\"\n",
    "List1=[name,age,field,location]\n",
    "print(List[2])"
   ]
  },
  {
   "cell_type": "code",
   "execution_count": 18,
   "id": "9f1f7fe9",
   "metadata": {},
   "outputs": [
    {
     "name": "stdout",
     "output_type": "stream",
     "text": [
      "['Tushar', '24', 'IT', 'Kalyan']\n"
     ]
    },
    {
     "data": {
      "text/plain": [
       "3"
      ]
     },
     "execution_count": 18,
     "metadata": {},
     "output_type": "execute_result"
    }
   ],
   "source": [
    "#3 print the position of location element\n",
    "\n",
    "name=\"Tushar\"\n",
    "age=\"24\"\n",
    "field=\"IT\"\n",
    "location=\"Kalyan\"\n",
    "List1=[name,age,field,location]\n",
    "print(List1)\n",
    "List1.index(location)"
   ]
  },
  {
   "cell_type": "code",
   "execution_count": 30,
   "id": "e228afb6",
   "metadata": {},
   "outputs": [
    {
     "name": "stdout",
     "output_type": "stream",
     "text": [
      "['Tushar', '24', 'IT', 'Kalyan']\n",
      "['IT']\n"
     ]
    }
   ],
   "source": [
    "#4 print element btw age and locaton ,using forward and backward indexing\n",
    "\n",
    "name=\"Tushar\"\n",
    "age=\"24\"\n",
    "field=\"IT\"\n",
    "location=\"Kalyan\"\n",
    "List1=[name,age,field,location]\n",
    "print(List1)\n",
    "print(List1[2:3:1])"
   ]
  },
  {
   "cell_type": "code",
   "execution_count": 38,
   "id": "c8e3de46",
   "metadata": {},
   "outputs": [
    {
     "name": "stdout",
     "output_type": "stream",
     "text": [
      "['Balsaraf', '24', 'IT', 'Kalyan']\n"
     ]
    }
   ],
   "source": [
    "#5 replace the element of name with surname\n",
    "\n",
    "name=\"Tushar\"\n",
    "age=\"24\"\n",
    "field=\"IT\"\n",
    "location=\"Kalyan\"\n",
    "surname=\"Balsaraf\"\n",
    "List1=[name,age,field,location]\n",
    "List1[0] = \"Balsaraf\"\n",
    "print(List1)"
   ]
  },
  {
   "cell_type": "code",
   "execution_count": 40,
   "id": "f43ca140",
   "metadata": {},
   "outputs": [
    {
     "name": "stdout",
     "output_type": "stream",
     "text": [
      "['Balsaraf', 'Red', 'Nettech', 'Kalyan']\n"
     ]
    }
   ],
   "source": [
    "#6 replace the element of name ,age and field\n",
    "\n",
    "name=\"Tushar\"\n",
    "age=\"24\"\n",
    "field=\"IT\"\n",
    "location=\"Kalyan\"\n",
    "surname=\"Balsaraf\"\n",
    "List1=[name,age,field,location]\n",
    "List1[0]=\"Balsaraf\"\n",
    "List1[1]=\"Red\"\n",
    "List1[2]=\"Nettech\"\n",
    "print(List1)"
   ]
  },
  {
   "cell_type": "code",
   "execution_count": 69,
   "id": "acebf000",
   "metadata": {},
   "outputs": [
    {
     "name": "stdout",
     "output_type": "stream",
     "text": [
      "['Balsaraf', 'IT', 'Kalyan']\n"
     ]
    }
   ],
   "source": [
    "#7 replace the element of name,age with only surname\n",
    "\n",
    "List=[\"Tushar\", 24,\"IT\",\"Kalyan\"]\n",
    "List[0:2]=[\"Balsaraf\"]\n",
    "print(List)"
   ]
  },
  {
   "cell_type": "code",
   "execution_count": 70,
   "id": "402bcd52",
   "metadata": {},
   "outputs": [
    {
     "name": "stdout",
     "output_type": "stream",
     "text": [
      "[['Tushu', 'Balsaraf'], 24, 'IT', 'Kalyan']\n"
     ]
    }
   ],
   "source": [
    "#8 replace the element of name with your nickname and surname'\n",
    "\n",
    "List=[\"Tushar\", 24,\"IT\",\"Kalyan\"]\n",
    "List[0]=[\"Tushu\", \"Balsaraf\"]\n",
    "print(List)"
   ]
  },
  {
   "cell_type": "code",
   "execution_count": 72,
   "id": "766ce678",
   "metadata": {},
   "outputs": [
    {
     "name": "stdout",
     "output_type": "stream",
     "text": [
      "['Tushar', 'Balsaraf', 24, 'IT', 'Kalyan']\n"
     ]
    }
   ],
   "source": [
    "#9 add your surname in the list after your first name\n",
    "\n",
    "List=[\"Tushar\", 24,\"IT\",\"Kalyan\"]\n",
    "List.insert(1,\"Balsaraf\")\n",
    "print(List)"
   ]
  },
  {
   "cell_type": "code",
   "execution_count": 73,
   "id": "32e2a437",
   "metadata": {},
   "outputs": [
    {
     "name": "stdout",
     "output_type": "stream",
     "text": [
      "['Tushar', 24, 'IT', 'Kalyan', 'Trekking']\n"
     ]
    }
   ],
   "source": [
    "#10 add your only one hobby at the end of the list\n",
    "\n",
    "List=[\"Tushar\", 24,\"IT\",\"Kalyan\"]\n",
    "List.append(\"Trekking\")\n",
    "print(List)"
   ]
  },
  {
   "cell_type": "code",
   "execution_count": 95,
   "id": "b0e86203",
   "metadata": {},
   "outputs": [
    {
     "name": "stdout",
     "output_type": "stream",
     "text": [
      "['Tushar', 24, 'IT', 'Kalyan', ['Trekking', 'Cycling', 'Singing']]\n"
     ]
    }
   ],
   "source": [
    "#11 add your n-numbers of hobbies at the end of list\n",
    "\n",
    "List1=[\"Tushar\", 24,\"IT\",\"Kalyan\"]\n",
    "List2=[\"Trekking\",\"Cycling\",\"Singing\"]\n",
    "List1.append(List2)\n",
    "print(List1)"
   ]
  },
  {
   "cell_type": "code",
   "execution_count": 77,
   "id": "f6e1cec1",
   "metadata": {},
   "outputs": [
    {
     "name": "stdout",
     "output_type": "stream",
     "text": [
      "['Tushar', 24, 'IT']\n"
     ]
    }
   ],
   "source": [
    "#12 remove your location from list\n",
    "\n",
    "List=[\"Tushar\", 24,\"IT\",\"Kalyan\"]\n",
    "List.remove(\"Kalyan\")\n",
    "print(List)"
   ]
  },
  {
   "cell_type": "code",
   "execution_count": 80,
   "id": "ac4727c1",
   "metadata": {},
   "outputs": [
    {
     "name": "stdout",
     "output_type": "stream",
     "text": [
      "['Tushar', 'IT', 'Kalyan']\n",
      "['Tushar', 'IT', 'Kalyan']\n"
     ]
    }
   ],
   "source": [
    "#13 remove your age from list[using 2 methods]\n",
    "\n",
    "#First method\n",
    "\n",
    "List=[\"Tushar\", 24,\"IT\",\"Kalyan\"]\n",
    "List.remove(24)\n",
    "print(List)\n",
    "\n",
    "#Second method\n",
    "\n",
    "List=[\"Tushar\", 24,\"IT\",\"Kalyan\"]\n",
    "List.pop(1)\n",
    "print(List)"
   ]
  },
  {
   "cell_type": "code",
   "execution_count": 81,
   "id": "e48fa00e",
   "metadata": {},
   "outputs": [
    {
     "name": "stdout",
     "output_type": "stream",
     "text": [
      "['Tushar', 24, 'IT']\n"
     ]
    }
   ],
   "source": [
    "#14 remove last element from the list\n",
    "\n",
    "List=[\"Tushar\", 24,\"IT\",\"Kalyan\"]\n",
    "List.pop()\n",
    "print(List)"
   ]
  },
  {
   "cell_type": "code",
   "execution_count": 84,
   "id": "91b40b7e",
   "metadata": {},
   "outputs": [
    {
     "name": "stdout",
     "output_type": "stream",
     "text": [
      "[]\n"
     ]
    }
   ],
   "source": [
    "#15 remove all element from the list(empty)\n",
    "\n",
    "List=[\"Tushar\", 24,\"IT\",\"Kalyan\"]\n",
    "List.clear()\n",
    "print(List)"
   ]
  },
  {
   "cell_type": "code",
   "execution_count": 86,
   "id": "b1f31de4",
   "metadata": {},
   "outputs": [],
   "source": [
    "#16 delete the list\n",
    "\n",
    "List=[\"Tushar\", 24,\"IT\",\"Kalyan\"]\n",
    "del List"
   ]
  },
  {
   "cell_type": "code",
   "execution_count": 90,
   "id": "d88c25b6",
   "metadata": {},
   "outputs": [
    {
     "name": "stdout",
     "output_type": "stream",
     "text": [
      "9\n"
     ]
    }
   ],
   "source": [
    "#17 create a list of prime numbers till 20 and find the length of it\n",
    "\n",
    "List=[1,2,3,5,7,11,13,17,19]\n",
    "print(len(List))"
   ]
  },
  {
   "cell_type": "code",
   "execution_count": 93,
   "id": "cc27abe3",
   "metadata": {},
   "outputs": [
    {
     "name": "stdout",
     "output_type": "stream",
     "text": [
      "[2, 5, 7, 12, 18]\n",
      "[18, 12, 7, 5, 2]\n"
     ]
    }
   ],
   "source": [
    "#18 create a list of 5,2,18,7,12 and print in ascending and descending order\n",
    "\n",
    "List=[5,2,18,7,12]\n",
    "List.sort()\n",
    "print(List)\n",
    "List.reverse()\n",
    "print(List)"
   ]
  },
  {
   "cell_type": "code",
   "execution_count": 96,
   "id": "c238799b",
   "metadata": {},
   "outputs": [
    {
     "name": "stdout",
     "output_type": "stream",
     "text": [
      "['Tushar', 'Deepak', 'Balsaraf', 24, 26, 28]\n"
     ]
    }
   ],
   "source": [
    "#19 merge two list\n",
    "\n",
    "List1= [\"Tushar\", \"Deepak\", \"Balsaraf\"]\n",
    "List2= [24, 26, 28]\n",
    "List3 = List1+List2\n",
    "print(List3)"
   ]
  },
  {
   "cell_type": "code",
   "execution_count": 97,
   "id": "bf976b58",
   "metadata": {},
   "outputs": [
    {
     "name": "stdout",
     "output_type": "stream",
     "text": [
      "['orange', 'mango', 'banana']\n",
      "['orange', 'mango', 'banana', 'watermelon']\n",
      "['orange', 'mango', 'banana', 'watermelon']\n"
     ]
    }
   ],
   "source": [
    "#20 make a deep copy of list and check whether it is copying deeply or not\n",
    "\n",
    "List=[\"orange\",\"mango\",\"banana\"]\n",
    "List1=List\n",
    "print(List1)\n",
    "#checking whether it is deeply copied\n",
    "\n",
    "List.append(\"watermelon\")\n",
    "print(List)\n",
    "print(List1)\n"
   ]
  },
  {
   "cell_type": "code",
   "execution_count": 99,
   "id": "0a022db0",
   "metadata": {},
   "outputs": [
    {
     "name": "stdout",
     "output_type": "stream",
     "text": [
      "['orange', 'mango', 'banana']\n",
      "['orange', 'mango', 'banana', 'watermelon']\n",
      "['orange', 'mango', 'banana']\n"
     ]
    }
   ],
   "source": [
    "#21 make a copy of list in that way  making changes in one list will not affect to the another list\n",
    "\n",
    "List=[\"orange\",\"mango\",\"banana\"]\n",
    "List1=List.copy()\n",
    "print(List1)\n",
    "\n",
    "#checking whether the orignal list is not affected\n",
    "\n",
    "List.append(\"watermelon\")\n",
    "print(List)\n",
    "print(List1)"
   ]
  },
  {
   "cell_type": "code",
   "execution_count": 5,
   "id": "0cd6cac2",
   "metadata": {},
   "outputs": [
    {
     "name": "stdout",
     "output_type": "stream",
     "text": [
      "['Amar', 'Akbar', 'Anthony', 'Aamir', 'Abdul']\n",
      "['Amar', 'Akbar', 'Anthony', 'Aamir']\n",
      "['Amar', 'Akbar', 'Anthony']\n",
      "['Amar', 'Akbar', 'Anthony', 'Aamir', 'Abdul']\n",
      "['Akbar', 'Anthony', 'Aamir', 'Abdul']\n",
      "['Anthony', 'Aamir', 'Abdul']\n"
     ]
    }
   ],
   "source": [
    "#22 Take any example to  explain stack and queue\n",
    "\n",
    "List =[\"Amar\",\"Akbar\",\"Anthony\"]\n",
    "\n",
    "#Stack works on the pricipal of last in first out. Now, we are adding elements in list.\n",
    "\n",
    "List.append(\"Aamir\")\n",
    "List.append(\"Abdul\")\n",
    "print(List)\n",
    "\n",
    "#Now will take one by one element out by pop method\n",
    "\n",
    "List.pop()\n",
    "print(List)\n",
    "\n",
    "#One element from last is removed\n",
    "\n",
    "List.pop()\n",
    "print(List)\n",
    "\n",
    "#One more element from last is removed\n",
    "\n",
    "#Now will see queue working\n",
    "\n",
    "List =[\"Amar\",\"Akbar\",\"Anthony\"]\n",
    "\n",
    "#Queue works on the pricipal of first in first out. Now, we are adding elements in list.\n",
    "\n",
    "List.append(\"Aamir\")\n",
    "List.append(\"Abdul\")\n",
    "print(List)\n",
    "\n",
    "#Now will take one by one element out by pop method\n",
    "\n",
    "List.pop(0)\n",
    "print(List)\n",
    "\n",
    "List.pop(0)\n",
    "print(List)"
   ]
  },
  {
   "cell_type": "code",
   "execution_count": 16,
   "id": "d6ca0099",
   "metadata": {},
   "outputs": [
    {
     "name": "stdout",
     "output_type": "stream",
     "text": [
      "[(1, 'Tushar', 24, 1), (2, 'Nikhil', 21, 2), (3, 'Sanvee', 25, 3), (4, 'Hrishi', 26, 4)]\n"
     ]
    }
   ],
   "source": [
    "#23 zip four list contain with natural number your name,age, rollno\n",
    "\n",
    "natural_num=[1,2,3,4]\n",
    "name=[\"Tushar\",\"Nikhil\",\"Sanvee\",\"Hrishi\"]\n",
    "age=[24,21,25,26]\n",
    "roll_no=[1,2,3,4]\n",
    "\n",
    "Data=zip(natural_num, name,age,roll_no)\n",
    "Data=list(Data)\n",
    "print(Data)\n"
   ]
  },
  {
   "cell_type": "code",
   "execution_count": 17,
   "id": "173dddc9",
   "metadata": {},
   "outputs": [
    {
     "name": "stdout",
     "output_type": "stream",
     "text": [
      "(1, 2, 3, 4)\n",
      "('Tushar', 'Nikhil', 'Sanvee', 'Hrishi')\n",
      "(24, 21, 25, 26)\n",
      "(1, 2, 3, 4)\n"
     ]
    }
   ],
   "source": [
    "#24 unzip the above list\n",
    "\n",
    "natural_num,name,age,roll_no=zip(*Data)\n",
    "print(natural_num)\n",
    "print(name)\n",
    "print(age)\n",
    "print(roll_no)"
   ]
  },
  {
   "cell_type": "code",
   "execution_count": null,
   "id": "79b46d2d",
   "metadata": {},
   "outputs": [],
   "source": []
  }
 ],
 "metadata": {
  "kernelspec": {
   "display_name": "Python 3 (ipykernel)",
   "language": "python",
   "name": "python3"
  },
  "language_info": {
   "codemirror_mode": {
    "name": "ipython",
    "version": 3
   },
   "file_extension": ".py",
   "mimetype": "text/x-python",
   "name": "python",
   "nbconvert_exporter": "python",
   "pygments_lexer": "ipython3",
   "version": "3.9.7"
  }
 },
 "nbformat": 4,
 "nbformat_minor": 5
}
