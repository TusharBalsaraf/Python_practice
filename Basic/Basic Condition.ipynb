{
 "cells": [
  {
   "cell_type": "markdown",
   "id": "fe523115",
   "metadata": {},
   "source": [
    "#### 1. Check whether the number is divisible by 7"
   ]
  },
  {
   "cell_type": "code",
   "execution_count": 28,
   "id": "cf437210",
   "metadata": {},
   "outputs": [
    {
     "name": "stdout",
     "output_type": "stream",
     "text": [
      "Enter the number :- 14\n",
      "The number 14 is divisible by 7\n"
     ]
    }
   ],
   "source": [
    "a= int(input(\"Enter the number :- \"))\n",
    "\n",
    "if a%7==0:\n",
    "    print(\"The number\",a,\"is divisible by 7\")\n",
    "else:\n",
    "    print(\"The number\",a,\"is not divisible by 7\")"
   ]
  },
  {
   "cell_type": "markdown",
   "id": "8f269ce0",
   "metadata": {},
   "source": [
    "#### 2. Check whether the given number is even or odd"
   ]
  },
  {
   "cell_type": "code",
   "execution_count": null,
   "id": "c3f8b928",
   "metadata": {},
   "outputs": [],
   "source": [
    "\n",
    "b=int(input(\"Enter the number :- \"))\n",
    "\n",
    "if b%2==0:\n",
    "    print(\"The number\",b,\" is even\")\n",
    "else :\n",
    "    print(\"The number\",b,\"is odd\")"
   ]
  },
  {
   "cell_type": "markdown",
   "id": "174660dd",
   "metadata": {},
   "source": [
    "#### 3. Check whether the given number is positive, negative or equal to zero(input)"
   ]
  },
  {
   "cell_type": "code",
   "execution_count": null,
   "id": "a0aef848",
   "metadata": {},
   "outputs": [],
   "source": []
  },
  {
   "cell_type": "code",
   "execution_count": 16,
   "id": "e3fa4d3d",
   "metadata": {},
   "outputs": [
    {
     "name": "stdout",
     "output_type": "stream",
     "text": [
      "Enter number :- -1\n",
      "The number -1 is negative\n"
     ]
    }
   ],
   "source": [
    "\n",
    "c=int(input(\"Enter number :- \"))\n",
    "\n",
    "if c>0:\n",
    "    print(\"The number\",c,\"is positive\")\n",
    "elif c==0:\n",
    "    print(\"The number is equal to zero\")\n",
    "else:\n",
    "    print(\"The number\",c,\"is negative\")"
   ]
  },
  {
   "cell_type": "markdown",
   "id": "63b9bf7b",
   "metadata": {},
   "source": [
    "#### 4. check whether 'a' is in 'Python' string or not"
   ]
  },
  {
   "cell_type": "code",
   "execution_count": 25,
   "id": "667d907f",
   "metadata": {},
   "outputs": [
    {
     "name": "stdout",
     "output_type": "stream",
     "text": [
      "Enter the input :- Sanvee\n",
      "'a is in Sanvee\n"
     ]
    }
   ],
   "source": [
    "\n",
    "\n",
    "d=input(\"Enter the input :- \")\n",
    "if 'a' in d: \n",
    "    print(\"a is in\",d)\n",
    "else: \n",
    "    print(\"The input is not a string\")"
   ]
  },
  {
   "cell_type": "markdown",
   "id": "8f749aee",
   "metadata": {},
   "source": [
    "#### 5. Find the largest number among three number with user input"
   ]
  },
  {
   "cell_type": "code",
   "execution_count": 31,
   "id": "49bceb9a",
   "metadata": {},
   "outputs": [
    {
     "name": "stdout",
     "output_type": "stream",
     "text": [
      "Enter first number :- 2\n",
      "Enter second number :- 5\n",
      "Enter third number :- 1\n",
      "5  is the largest number.\n"
     ]
    }
   ],
   "source": [
    "a=int(input(\"Enter first number :- \"))\n",
    "b=int(input(\"Enter second number :- \"))\n",
    "c=int(input(\"Enter third number :- \"))\n",
    "\n",
    "if a>b and a>c:\n",
    "    print(a,\" is the largest number.\")\n",
    "elif b>a and b>c:\n",
    "    print(b,\" is the largest number.\")\n",
    "else:\n",
    "    print(c,\" is the largest number.\")"
   ]
  },
  {
   "cell_type": "code",
   "execution_count": null,
   "id": "c3ac4a99",
   "metadata": {},
   "outputs": [],
   "source": []
  }
 ],
 "metadata": {
  "kernelspec": {
   "display_name": "Python 3 (ipykernel)",
   "language": "python",
   "name": "python3"
  },
  "language_info": {
   "codemirror_mode": {
    "name": "ipython",
    "version": 3
   },
   "file_extension": ".py",
   "mimetype": "text/x-python",
   "name": "python",
   "nbconvert_exporter": "python",
   "pygments_lexer": "ipython3",
   "version": "3.9.7"
  }
 },
 "nbformat": 4,
 "nbformat_minor": 5
}
