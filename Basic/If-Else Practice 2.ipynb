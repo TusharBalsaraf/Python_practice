{
 "cells": [
  {
   "cell_type": "markdown",
   "id": "ac6984fe",
   "metadata": {},
   "source": [
    "#### 1. Accept the following from the user and calculate the percentage of class attended: \n",
    "#### a.     Total number of working days\n",
    "#### b.     Total number of days for present\n",
    "#### After calculating percentage show that, If the percentage is less than 75, than student will not be able to sit in exam."
   ]
  },
  {
   "cell_type": "code",
   "execution_count": 8,
   "id": "23f19344",
   "metadata": {},
   "outputs": [
    {
     "name": "stdout",
     "output_type": "stream",
     "text": [
      "Enter total number of days :- 300\n",
      "Enter number of days present :- 250\n",
      "83 %\n",
      "The student is eligible to sit for exam.\n"
     ]
    }
   ],
   "source": [
    "a=int(input(\"Enter total number of days :- \"))\n",
    "b=int(input(\"Enter number of days present :- \"))\n",
    "c=int(b/a*100)\n",
    "print(c,\"%\")\n",
    "\n",
    "if c<=74:\n",
    "    print(\"The student will not be to sit for exam\")\n",
    "else:\n",
    "    print(\"The student is eligible to sit for exam.\")"
   ]
  },
  {
   "cell_type": "markdown",
   "id": "3704f524",
   "metadata": {},
   "source": [
    "#### 2. Accept any city from the user and display monument of that city.\n",
    "####              City                                 Monument\n",
    "####              Delhi                               Red Fort\n",
    "####              Agra                                Taj Mahal\n",
    "####             Jaipur                              Jal Mahal"
   ]
  },
  {
   "cell_type": "code",
   "execution_count": 3,
   "id": "f51e78dd",
   "metadata": {},
   "outputs": [
    {
     "name": "stdout",
     "output_type": "stream",
     "text": [
      "Enter city name :- Agra\n",
      "Agra  Taj Mahal\n"
     ]
    }
   ],
   "source": [
    "a=str(input(\"Enter city name :- \"))\n",
    "\n",
    "if a==\"Delhi\":\n",
    "    print(a,\" = Red fort\")\n",
    "elif a==\"Agra\":\n",
    "    print(a,\" Taj Mahal\")\n",
    "elif a==\"Jaipur\":\n",
    "    print(a,\" Jal Mahal\")\n",
    "else:\n",
    "    print(\"Invalid entry\")"
   ]
  },
  {
   "cell_type": "markdown",
   "id": "f11eb7bd",
   "metadata": {},
   "source": [
    "#### 3. Check whether the person is eligible for voting or not"
   ]
  },
  {
   "cell_type": "code",
   "execution_count": 7,
   "id": "819154a4",
   "metadata": {},
   "outputs": [
    {
     "name": "stdout",
     "output_type": "stream",
     "text": [
      "Enter person's age :- 111\n",
      "Invalid entry\n"
     ]
    }
   ],
   "source": [
    "a=int(input(\"Enter person's age :- \"))\n",
    "\n",
    "if a<18:\n",
    "    print(\"The person is not eligible for voting.\")\n",
    "elif 100>a>=18:\n",
    "    print(\"The person is eligible for voting.\")\n",
    "else:\n",
    "    print(\"Invalid entry\")"
   ]
  },
  {
   "cell_type": "markdown",
   "id": "8b67b717",
   "metadata": {},
   "source": [
    "#### 4. Check whether the figure is square or not by giving length and breadth"
   ]
  },
  {
   "cell_type": "code",
   "execution_count": 10,
   "id": "1d19db00",
   "metadata": {},
   "outputs": [
    {
     "name": "stdout",
     "output_type": "stream",
     "text": [
      "Enter first side :- 5\n",
      "Enter second side :- 5\n",
      "It is a square.\n"
     ]
    }
   ],
   "source": [
    "a=int(input(\"Enter first side :- \"))\n",
    "b=int(input(\"Enter second side :- \"))\n",
    "\n",
    "if a==b:\n",
    "    print(\"It is a square.\")\n",
    "else:\n",
    "    print(\"It is not a square.\")"
   ]
  },
  {
   "cell_type": "code",
   "execution_count": null,
   "id": "61dbbad9",
   "metadata": {},
   "outputs": [],
   "source": []
  }
 ],
 "metadata": {
  "kernelspec": {
   "display_name": "Python 3 (ipykernel)",
   "language": "python",
   "name": "python3"
  },
  "language_info": {
   "codemirror_mode": {
    "name": "ipython",
    "version": 3
   },
   "file_extension": ".py",
   "mimetype": "text/x-python",
   "name": "python",
   "nbconvert_exporter": "python",
   "pygments_lexer": "ipython3",
   "version": "3.9.7"
  }
 },
 "nbformat": 4,
 "nbformat_minor": 5
}
