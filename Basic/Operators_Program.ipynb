{
 "cells": [
  {
   "cell_type": "code",
   "execution_count": 1,
   "id": "0728f686",
   "metadata": {},
   "outputs": [
    {
     "name": "stdout",
     "output_type": "stream",
     "text": [
      "7\n"
     ]
    }
   ],
   "source": [
    "#ARITHMATIC OPERATOR \n",
    "    #Addition \"+\"\n",
    "    \n",
    "a=3\n",
    "b=4\n",
    "print(a+b)"
   ]
  },
  {
   "cell_type": "code",
   "execution_count": 3,
   "id": "83db9e30",
   "metadata": {},
   "outputs": [
    {
     "name": "stdout",
     "output_type": "stream",
     "text": [
      "4\n"
     ]
    }
   ],
   "source": [
    "    #Subtraction \"-\"\n",
    "a=8\n",
    "b=4\n",
    "print(a-b)"
   ]
  },
  {
   "cell_type": "code",
   "execution_count": 4,
   "id": "9c5bfad2",
   "metadata": {},
   "outputs": [
    {
     "name": "stdout",
     "output_type": "stream",
     "text": [
      "10\n"
     ]
    }
   ],
   "source": [
    "    #Multiplication \"*\"\n",
    "a=2\n",
    "b=5\n",
    "print(a*b)"
   ]
  },
  {
   "cell_type": "code",
   "execution_count": 10,
   "id": "0e17f8f7",
   "metadata": {},
   "outputs": [
    {
     "name": "stdout",
     "output_type": "stream",
     "text": [
      "5.0\n"
     ]
    }
   ],
   "source": [
    "    #Division \"/\"\n",
    "a=10\n",
    "b=2\n",
    "print(a/b)"
   ]
  },
  {
   "cell_type": "code",
   "execution_count": 11,
   "id": "46117197",
   "metadata": {},
   "outputs": [
    {
     "name": "stdout",
     "output_type": "stream",
     "text": [
      "5.5\n",
      "5\n"
     ]
    }
   ],
   "source": [
    "    #Floor Division \"//\"\n",
    "    \n",
    "a=11\n",
    "b=2\n",
    "print(a/b) #---normal division\n",
    "\n",
    "a=11\n",
    "b=2\n",
    "print(a//b) #---floor division"
   ]
  },
  {
   "cell_type": "code",
   "execution_count": 12,
   "id": "811b96cb",
   "metadata": {},
   "outputs": [
    {
     "name": "stdout",
     "output_type": "stream",
     "text": [
      "3\n"
     ]
    }
   ],
   "source": [
    "    #Modulus \"%\"\n",
    "    \n",
    "a=18\n",
    "b=5\n",
    "print(a%b)"
   ]
  },
  {
   "cell_type": "code",
   "execution_count": 13,
   "id": "644cef48",
   "metadata": {},
   "outputs": [
    {
     "name": "stdout",
     "output_type": "stream",
     "text": [
      "9\n"
     ]
    }
   ],
   "source": [
    "    #Exponent \"**\"\n",
    "    \n",
    "a=3\n",
    "b=2\n",
    "print(a**b)"
   ]
  },
  {
   "cell_type": "code",
   "execution_count": 22,
   "id": "0a5e0f22",
   "metadata": {},
   "outputs": [
    {
     "name": "stdout",
     "output_type": "stream",
     "text": [
      "True\n",
      "False\n",
      "False\n"
     ]
    }
   ],
   "source": [
    "#RELATIONAL OPERATOR\n",
    "    #Greater than \">\"\n",
    "\n",
    "a=8\n",
    "b=6\n",
    "print(a>b)\n",
    "\n",
    "a=4\n",
    "b=6\n",
    "print(a>b)\n",
    "\n",
    "a=6\n",
    "b=6\n",
    "print(a>b)"
   ]
  },
  {
   "cell_type": "code",
   "execution_count": 23,
   "id": "60e4034e",
   "metadata": {},
   "outputs": [
    {
     "name": "stdout",
     "output_type": "stream",
     "text": [
      "True\n",
      "False\n",
      "False\n"
     ]
    }
   ],
   "source": [
    "    #Less than \"<\"\n",
    "\n",
    "a=8\n",
    "b=10\n",
    "print(a<b)\n",
    "\n",
    "a=12\n",
    "b=10\n",
    "print(a<b)\n",
    "\n",
    "a=6\n",
    "b=6\n",
    "print(a<b)"
   ]
  },
  {
   "cell_type": "code",
   "execution_count": 20,
   "id": "7a160101",
   "metadata": {},
   "outputs": [
    {
     "name": "stdout",
     "output_type": "stream",
     "text": [
      "True\n",
      "False\n"
     ]
    }
   ],
   "source": [
    "    #Equal to \"==\"\n",
    "\n",
    "a=5\n",
    "b=5\n",
    "print(a==b)\n",
    "\n",
    "a=6\n",
    "b=5\n",
    "print(a==b)"
   ]
  },
  {
   "cell_type": "code",
   "execution_count": 21,
   "id": "8d18f7a6",
   "metadata": {},
   "outputs": [
    {
     "name": "stdout",
     "output_type": "stream",
     "text": [
      "False\n",
      "True\n"
     ]
    }
   ],
   "source": [
    "    #Not equal to \"!=\"\n",
    "    \n",
    "a=5\n",
    "b=5\n",
    "print(a!=b)\n",
    "\n",
    "a=5\n",
    "b=6\n",
    "print(a!=b)"
   ]
  },
  {
   "cell_type": "code",
   "execution_count": 24,
   "id": "91fb0330",
   "metadata": {},
   "outputs": [
    {
     "name": "stdout",
     "output_type": "stream",
     "text": [
      "True\n",
      "True\n",
      "False\n"
     ]
    }
   ],
   "source": [
    "    #Greater than equal to \">=\"\n",
    "    \n",
    "a=15\n",
    "b=10\n",
    "print(a>=b)\n",
    "\n",
    "a=15\n",
    "b=15\n",
    "print(a>=b)\n",
    "\n",
    "a=15\n",
    "b=16\n",
    "print(a>=b)"
   ]
  },
  {
   "cell_type": "code",
   "execution_count": 25,
   "id": "8ca2720d",
   "metadata": {},
   "outputs": [
    {
     "name": "stdout",
     "output_type": "stream",
     "text": [
      "False\n",
      "True\n",
      "True\n"
     ]
    }
   ],
   "source": [
    "    #Less than equal to \"<=\"\n",
    "\n",
    "a=15\n",
    "b=10\n",
    "print(a<=b)\n",
    "\n",
    "a=15\n",
    "b=15\n",
    "print(a<=b)\n",
    "\n",
    "a=15\n",
    "b=16\n",
    "print(a<=b)"
   ]
  },
  {
   "cell_type": "code",
   "execution_count": 2,
   "id": "039191f6",
   "metadata": {},
   "outputs": [
    {
     "name": "stdout",
     "output_type": "stream",
     "text": [
      "5\n",
      "b\n"
     ]
    }
   ],
   "source": [
    "#ASSIGNMENT OPERATOR\n",
    "    #Assign\"=\"\n",
    "    \n",
    "a=5\n",
    "print(a)\n",
    "\n",
    "a=\"b\"\n",
    "print(a)"
   ]
  },
  {
   "cell_type": "code",
   "execution_count": 3,
   "id": "bd9f1467",
   "metadata": {},
   "outputs": [
    {
     "name": "stdout",
     "output_type": "stream",
     "text": [
      "9\n",
      "5\n"
     ]
    }
   ],
   "source": [
    "    #Add and assign \"+=\"\n",
    "    \n",
    "a=4\n",
    "b=5\n",
    "a+=b\n",
    "print(a)\n",
    "\n",
    "a=4\n",
    "b=5\n",
    "a+=b\n",
    "print(b)"
   ]
  },
  {
   "cell_type": "code",
   "execution_count": 2,
   "id": "eb3cea4a",
   "metadata": {},
   "outputs": [
    {
     "name": "stdout",
     "output_type": "stream",
     "text": [
      "4\n",
      "5\n"
     ]
    }
   ],
   "source": [
    "    #Subtract and assign \"+=\"\n",
    "    \n",
    "a=9\n",
    "b=5\n",
    "a-=b #a=a-b\n",
    "print(a)\n",
    "\n",
    "a=4\n",
    "b=5\n",
    "a-=b #a=a-b\n",
    "print(b)"
   ]
  },
  {
   "cell_type": "code",
   "execution_count": 3,
   "id": "7960d86f",
   "metadata": {},
   "outputs": [
    {
     "name": "stdout",
     "output_type": "stream",
     "text": [
      "45\n",
      "5\n"
     ]
    }
   ],
   "source": [
    "    #Multiply and assign \"+=\"\n",
    "    \n",
    "a=9\n",
    "b=5\n",
    "a*=b #a=a*b\n",
    "print(a)\n",
    "\n",
    "a=4\n",
    "b=5\n",
    "a*=b #a=a*b\n",
    "print(b)"
   ]
  },
  {
   "cell_type": "code",
   "execution_count": 5,
   "id": "8f88d9ed",
   "metadata": {},
   "outputs": [
    {
     "name": "stdout",
     "output_type": "stream",
     "text": [
      "1.8\n",
      "9.0\n",
      "5\n"
     ]
    }
   ],
   "source": [
    "    #Divide and assign \"+=\"\n",
    "    \n",
    "a=9\n",
    "b=5\n",
    "a/=b #a=a/b\n",
    "print(a)\n",
    "\n",
    "a=45\n",
    "b=5\n",
    "a/=b #a=a/b\n",
    "print(a)\n",
    "\n",
    "a=4\n",
    "b=5\n",
    "a/=b #a=a/b\n",
    "print(b)"
   ]
  },
  {
   "cell_type": "code",
   "execution_count": 6,
   "id": "5950ba3f",
   "metadata": {},
   "outputs": [
    {
     "name": "stdout",
     "output_type": "stream",
     "text": [
      "1\n",
      "9\n",
      "5\n"
     ]
    }
   ],
   "source": [
    "    #Floor Division and assign \"+=\"\n",
    "    \n",
    "a=9\n",
    "b=5\n",
    "a//=b #a=a//b\n",
    "print(a)\n",
    "\n",
    "a=45\n",
    "b=5\n",
    "a//=b #a=a//b\n",
    "print(a)\n",
    "\n",
    "a=4\n",
    "b=5\n",
    "a//=b #a=a//b\n",
    "print(b)"
   ]
  },
  {
   "cell_type": "code",
   "execution_count": 7,
   "id": "c9a7183f",
   "metadata": {},
   "outputs": [
    {
     "name": "stdout",
     "output_type": "stream",
     "text": [
      "4\n",
      "0\n",
      "5\n"
     ]
    }
   ],
   "source": [
    "    #Exponent and assign \"+=\"\n",
    "    \n",
    "a=9\n",
    "b=5\n",
    "a%=b #a=a%b\n",
    "print(a)\n",
    "\n",
    "a=45\n",
    "b=5\n",
    "a%=b #a=a%b\n",
    "print(a)\n",
    "\n",
    "a=4\n",
    "b=5\n",
    "a%=b #a=a%b\n",
    "print(b)"
   ]
  },
  {
   "cell_type": "code",
   "execution_count": 9,
   "id": "e2a415b7",
   "metadata": {},
   "outputs": [
    {
     "name": "stdout",
     "output_type": "stream",
     "text": [
      "4\n",
      "3125\n",
      "5\n"
     ]
    }
   ],
   "source": [
    "    #Exponent and assign \"+=\"\n",
    "    \n",
    "a=2\n",
    "b=2\n",
    "a**=b #a=a**b\n",
    "print(a)\n",
    "\n",
    "a=5\n",
    "b=5\n",
    "a**=b #a=a**b\n",
    "print(a)\n",
    "\n",
    "a=4\n",
    "b=5\n",
    "a**=b #a=a**b\n",
    "print(b)"
   ]
  },
  {
   "cell_type": "code",
   "execution_count": 15,
   "id": "a9bf04de",
   "metadata": {},
   "outputs": [
    {
     "name": "stdout",
     "output_type": "stream",
     "text": [
      "1 True\n",
      "2 False\n",
      "20\n",
      "5\n",
      "16\n"
     ]
    }
   ],
   "source": [
    "#LOGICAL OPERATOR\n",
    "    #1. and : The logical and operator returns True if both expressions are True.\n",
    "    \n",
    "x=5\n",
    "print (\"1\",x<10 and x>4)\n",
    "\n",
    "x=5\n",
    "print (\"2\",x<10 and x>7)\n",
    "\n",
    "print(1 and 20)\n",
    "print(1 and 5)\n",
    "print (6 and 16)"
   ]
  },
  {
   "cell_type": "code",
   "execution_count": 17,
   "id": "0b8666b4",
   "metadata": {},
   "outputs": [
    {
     "name": "stdout",
     "output_type": "stream",
     "text": [
      "1 True\n",
      "2 True\n",
      "1\n",
      "1\n",
      "6\n"
     ]
    }
   ],
   "source": [
    "    #2. or : The logical or the operator returns a boolean True if one expression is true.\n",
    "    \n",
    "x=5\n",
    "print (\"1\",x<10 or x>4)\n",
    "\n",
    "x=5\n",
    "print (\"2\",x<10 or x>7)\n",
    "\n",
    "print(1 or 20)\n",
    "print(1 or 5)\n",
    "print (6 or 16)"
   ]
  },
  {
   "cell_type": "code",
   "execution_count": 22,
   "id": "0d2960dd",
   "metadata": {},
   "outputs": [
    {
     "name": "stdout",
     "output_type": "stream",
     "text": [
      "False\n",
      "False\n",
      "False\n"
     ]
    }
   ],
   "source": [
    "    #3. not : The logical not operator returns boolean True if the expression is false.\n",
    "\n",
    "x=5\n",
    "print(not(x>4))\n",
    "\n",
    "x=5\n",
    "print(not(x))\n",
    "\n",
    "print(not 10)"
   ]
  },
  {
   "cell_type": "code",
   "execution_count": 26,
   "id": "2cafb649",
   "metadata": {},
   "outputs": [
    {
     "name": "stdout",
     "output_type": "stream",
     "text": [
      "True\n",
      "False\n"
     ]
    }
   ],
   "source": [
    "#MEMBERSHIP OPERATOR\n",
    "    #In operator returns true when value in the string or integer mentioned is present in the list or not.\n",
    "    \n",
    "x =[\"apple\", \"banana\"]\n",
    "print(\"apple\" in x)\n",
    "\n",
    "x =[\"apple\", \"banana\"]\n",
    "print(\"orange\" in x)"
   ]
  },
  {
   "cell_type": "code",
   "execution_count": 27,
   "id": "d9248342",
   "metadata": {},
   "outputs": [
    {
     "name": "stdout",
     "output_type": "stream",
     "text": [
      "False\n",
      "True\n"
     ]
    }
   ],
   "source": [
    "    #Not in operator returns true when value in the string or integer mentioned is not present in the list or not.\n",
    "\n",
    "x =[\"apple\", \"banana\"]\n",
    "print(\"apple\" not in x)\n",
    "\n",
    "x =[\"apple\", \"banana\"]\n",
    "print(\"orange\" not in x)"
   ]
  },
  {
   "cell_type": "code",
   "execution_count": 28,
   "id": "a515d7a9",
   "metadata": {},
   "outputs": [
    {
     "name": "stdout",
     "output_type": "stream",
     "text": [
      "False\n",
      "True\n"
     ]
    }
   ],
   "source": [
    "#IDENTITY OPERATOR\n",
    "    #The \"is\" operator returns Boolean True or False.\n",
    "    \n",
    "x=9\n",
    "y=8\n",
    "z=9\n",
    "print(x is y)\n",
    "print(x is z)"
   ]
  },
  {
   "cell_type": "code",
   "execution_count": 29,
   "id": "5027a6f5",
   "metadata": {},
   "outputs": [
    {
     "name": "stdout",
     "output_type": "stream",
     "text": [
      "True\n",
      "False\n"
     ]
    }
   ],
   "source": [
    "    #The \"is not\" operator returns Boolean True or False.\n",
    "    \n",
    "x=9\n",
    "y=8\n",
    "z=9\n",
    "print(x is not y)\n",
    "print(x is not z)"
   ]
  },
  {
   "cell_type": "code",
   "execution_count": 30,
   "id": "9629f001",
   "metadata": {},
   "outputs": [
    {
     "name": "stdout",
     "output_type": "stream",
     "text": [
      "4\n",
      "5\n",
      "4\n"
     ]
    }
   ],
   "source": [
    "#BITWISE OPERATOR\n",
    "    #and\n",
    "    \n",
    "#AND\n",
    "a = 7\n",
    "b = 4\n",
    "c = 5\n",
    "print(a & b)\n",
    "print(a & c)\n",
    "print(b & c)"
   ]
  },
  {
   "cell_type": "code",
   "execution_count": 31,
   "id": "b56171f1",
   "metadata": {},
   "outputs": [
    {
     "name": "stdout",
     "output_type": "stream",
     "text": [
      "7\n",
      "7\n",
      "5\n",
      "29\n"
     ]
    }
   ],
   "source": [
    "#OR\n",
    "a = 7\n",
    "b = 4\n",
    "c = 5\n",
    "print(a | b)\n",
    "print(a | c) \n",
    "print(b | c) \n",
    "print(13|17)"
   ]
  },
  {
   "cell_type": "code",
   "execution_count": 32,
   "id": "e189f305",
   "metadata": {},
   "outputs": [
    {
     "name": "stdout",
     "output_type": "stream",
     "text": [
      "34\n"
     ]
    }
   ],
   "source": [
    "#XOR\n",
    "\n",
    "a=55\n",
    "b=21\n",
    "print(a ^ b)"
   ]
  },
  {
   "cell_type": "code",
   "execution_count": null,
   "id": "bb350d35",
   "metadata": {},
   "outputs": [],
   "source": []
  }
 ],
 "metadata": {
  "kernelspec": {
   "display_name": "Python 3 (ipykernel)",
   "language": "python",
   "name": "python3"
  },
  "language_info": {
   "codemirror_mode": {
    "name": "ipython",
    "version": 3
   },
   "file_extension": ".py",
   "mimetype": "text/x-python",
   "name": "python",
   "nbconvert_exporter": "python",
   "pygments_lexer": "ipython3",
   "version": "3.9.7"
  }
 },
 "nbformat": 4,
 "nbformat_minor": 5
}
