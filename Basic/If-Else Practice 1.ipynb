{
 "cells": [
  {
   "cell_type": "markdown",
   "id": "a8a58bf9",
   "metadata": {},
   "source": [
    "#### 1. Check whether the letter is vowel or not."
   ]
  },
  {
   "cell_type": "code",
   "execution_count": 9,
   "id": "19ff9069",
   "metadata": {},
   "outputs": [
    {
     "name": "stdout",
     "output_type": "stream",
     "text": [
      "Enter the value :- i\n",
      "The letter is vowel\n"
     ]
    }
   ],
   "source": [
    "vowel=[\"a\",\"e\",\"i\",\"o\",\"u\",\"A\",\"E\",\"I\",\"O\",\"U\"]\n",
    "a=input(\"Enter the value :- \")\n",
    "\n",
    "if a in vowel:\n",
    "    print(\"The letter is vowel\")\n",
    "else:\n",
    "    print(\"The letter is not vowel\")"
   ]
  },
  {
   "cell_type": "markdown",
   "id": "4035cfa9",
   "metadata": {},
   "source": [
    "#### 2. Write a program to accept the number from 1 to 7 and display the name of the day like 1 for sunday,2 for monday and so on."
   ]
  },
  {
   "cell_type": "code",
   "execution_count": 12,
   "id": "ca90771d",
   "metadata": {},
   "outputs": [
    {
     "name": "stdout",
     "output_type": "stream",
     "text": [
      "Enter the value :- 3\n",
      "3  is for Tuesday.\n"
     ]
    }
   ],
   "source": [
    "a=int(input(\"Enter the value :- \"))\n",
    "\n",
    "if a==1:\n",
    "    print(a,\" is for Sunday.\")\n",
    "elif a==2:\n",
    "    print(a,\" is for Monday.\")\n",
    "elif a==3:\n",
    "    print(a,\" is for Tuesday.\")\n",
    "elif a==4:\n",
    "    print(a,\" is for Wednesday.\")\n",
    "elif a==5:\n",
    "    print(a,\" is for Thursday.\")\n",
    "elif a==6:\n",
    "    print(a,\" is for Friday.\")\n",
    "elif a==7:\n",
    "    print(a,\" is for Saturday.\")\n",
    "else:\n",
    "    print(\"Invalid entry\")"
   ]
  },
  {
   "cell_type": "markdown",
   "id": "182f8bcc",
   "metadata": {},
   "source": [
    "#### 3. Check whether year is leap year or not "
   ]
  },
  {
   "cell_type": "code",
   "execution_count": 14,
   "id": "cd2e4b1c",
   "metadata": {},
   "outputs": [
    {
     "name": "stdout",
     "output_type": "stream",
     "text": [
      "Enter year :- 2000\n",
      "2000  is a leap year.\n"
     ]
    }
   ],
   "source": [
    "a=int(input(\"Enter year :- \"))\n",
    "\n",
    "if a%4==0 and a%100!=0:\n",
    "    print(a,\" is a leap year.\")\n",
    "elif a%400==0 and a%100==0:\n",
    "    print(a,\" is a leap year.\")\n",
    "else:\n",
    "    print(a,\" is not a leap year\")"
   ]
  },
  {
   "cell_type": "markdown",
   "id": "a79c2d89",
   "metadata": {},
   "source": [
    "#### 4. Check whether the figure is square or not by giving length and breadth."
   ]
  },
  {
   "cell_type": "code",
   "execution_count": 20,
   "id": "43215437",
   "metadata": {},
   "outputs": [
    {
     "name": "stdout",
     "output_type": "stream",
     "text": [
      "Enter 1st side :- 5\n",
      "Enter 2nd side :- 5\n",
      "The given figure is square.\n"
     ]
    }
   ],
   "source": [
    "a=int(input(\"Enter 1st side :- \"))\n",
    "b=int(input(\"Enter 2nd side :- \"))\n",
    "\n",
    "if a==b:\n",
    "    print(\"The given figure is square.\")\n",
    "else:\n",
    "    print(\"The given figure is not square.\")"
   ]
  },
  {
   "cell_type": "code",
   "execution_count": null,
   "id": "ec52a502",
   "metadata": {},
   "outputs": [],
   "source": []
  }
 ],
 "metadata": {
  "kernelspec": {
   "display_name": "Python 3 (ipykernel)",
   "language": "python",
   "name": "python3"
  },
  "language_info": {
   "codemirror_mode": {
    "name": "ipython",
    "version": 3
   },
   "file_extension": ".py",
   "mimetype": "text/x-python",
   "name": "python",
   "nbconvert_exporter": "python",
   "pygments_lexer": "ipython3",
   "version": "3.9.7"
  }
 },
 "nbformat": 4,
 "nbformat_minor": 5
}
