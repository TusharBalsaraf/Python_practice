{
 "cells": [
  {
   "cell_type": "code",
   "execution_count": 1,
   "id": "90551e5f",
   "metadata": {},
   "outputs": [
    {
     "name": "stdout",
     "output_type": "stream",
     "text": [
      "{1, 2, 3, 4, 5, 6}\n"
     ]
    }
   ],
   "source": [
    "#Creating a set\n",
    "\n",
    "a={1,2,3,4,5,6}\n",
    "print(a)"
   ]
  },
  {
   "cell_type": "code",
   "execution_count": 6,
   "id": "4501d6ad",
   "metadata": {},
   "outputs": [
    {
     "name": "stdout",
     "output_type": "stream",
     "text": [
      "{1, 2, 5, 6, 7, 8}\n"
     ]
    },
    {
     "data": {
      "text/plain": [
       "set"
      ]
     },
     "execution_count": 6,
     "metadata": {},
     "output_type": "execute_result"
    }
   ],
   "source": [
    "#Creating set using paranthesis\n",
    "\n",
    "a=set((1,2,5,7,6,8))\n",
    "print(a)\n",
    "type(a)"
   ]
  },
  {
   "cell_type": "code",
   "execution_count": 8,
   "id": "0f329c4c",
   "metadata": {},
   "outputs": [
    {
     "name": "stdout",
     "output_type": "stream",
     "text": [
      "{'apple', 'orange', 'chikoo', 'mango'}\n",
      "{'grapes', 'orange', 'chikoo', 'mango', 'apple', 'banana'}\n"
     ]
    }
   ],
   "source": [
    "#For adding items in given set there are two method:- Add and Update\n",
    "\n",
    "fruits={\"mango\",\"apple\",\"chikoo\"}\n",
    "fruits.add(\"orange\")\n",
    "\n",
    "#In add we can add only 1 element at a time\n",
    "\n",
    "print(fruits)\n",
    "fruits.add(\"grapes\")\n",
    "fruits.add(\"banana\")\n",
    "print(fruits)"
   ]
  },
  {
   "cell_type": "code",
   "execution_count": 10,
   "id": "33ffa93d",
   "metadata": {},
   "outputs": [
    {
     "name": "stdout",
     "output_type": "stream",
     "text": [
      "{'orange', 'chikoo', 'mango', 'apple', 'banana'}\n",
      "{'orange', 'chikoo', 'mango', 'apple', 'watermelon', 'banana'}\n"
     ]
    }
   ],
   "source": [
    "#Update method for adding, in this method we can add one or more elements in set.\n",
    "\n",
    "fruits={\"mango\",\"apple\",\"chikoo\"}\n",
    "fruits.update([\"orange\",\"banana\"])\n",
    "print(fruits)\n",
    "\n",
    "fruits={\"mango\",\"apple\",\"chikoo\"}\n",
    "fruits.update([\"orange\",\"banana\",\"watermelon\"])\n",
    "print(fruits)"
   ]
  },
  {
   "cell_type": "code",
   "execution_count": 11,
   "id": "d65f7be5",
   "metadata": {},
   "outputs": [
    {
     "name": "stdout",
     "output_type": "stream",
     "text": [
      "{'apple', 'watermelon', 'banana', 'orange', 'chikoo', 'mango'}\n"
     ]
    }
   ],
   "source": [
    "a={\"mango\",\"apple\",\"chikoo\"}\n",
    "b={\"orange\",\"banana\",\"watermelon\"}\n",
    "a.update(b)\n",
    "print(a)"
   ]
  },
  {
   "cell_type": "code",
   "execution_count": 12,
   "id": "dc96e6ac",
   "metadata": {},
   "outputs": [
    {
     "name": "stdout",
     "output_type": "stream",
     "text": [
      "{'watermelon', 'banana', 'orange', 'chikoo', 'mango'}\n"
     ]
    }
   ],
   "source": [
    "#Remove method:- If the element which we need to remove is not present in set, it will throw error.\n",
    "\n",
    "a={\"mango\",\"apple\",\"chikoo\",\"orange\",\"banana\",\"watermelon\"}\n",
    "a.remove(\"apple\")\n",
    "print(a)"
   ]
  },
  {
   "cell_type": "code",
   "execution_count": 14,
   "id": "f869b6a0",
   "metadata": {},
   "outputs": [
    {
     "name": "stdout",
     "output_type": "stream",
     "text": [
      "{'watermelon', 'banana', 'orange', 'chikoo', 'mango'}\n",
      "{'apple', 'watermelon', 'banana', 'orange', 'chikoo', 'mango'}\n"
     ]
    }
   ],
   "source": [
    "#Discard method:- If the element which we need to remove is not present in set, then too it will give output.\n",
    "\n",
    "a={\"mango\",\"apple\",\"chikoo\",\"orange\",\"banana\",\"watermelon\"}\n",
    "a.discard(\"apple\")\n",
    "print(a)\n",
    "\n",
    "a={\"mango\",\"apple\",\"chikoo\",\"orange\",\"banana\",\"watermelon\"}\n",
    "a.discard(\"Tushar\")\n",
    "print(a)"
   ]
  },
  {
   "cell_type": "code",
   "execution_count": 16,
   "id": "adc088ec",
   "metadata": {},
   "outputs": [
    {
     "name": "stdout",
     "output_type": "stream",
     "text": [
      "{'watermelon', 'banana', 'orange', 'chikoo', 'mango'}\n",
      "apple\n"
     ]
    }
   ],
   "source": [
    "#Pop method = It randomly removes any element from set\n",
    "\n",
    "a={\"mango\",\"apple\",\"chikoo\",\"orange\",\"banana\",\"watermelon\"}\n",
    "a.pop()\n",
    "print(a)\n",
    "\n",
    "a={\"mango\",\"apple\",\"chikoo\",\"orange\",\"banana\",\"watermelon\"}\n",
    "deleted_item=a.pop()\n",
    "print(deleted_item)"
   ]
  },
  {
   "cell_type": "code",
   "execution_count": 17,
   "id": "45f43bbf",
   "metadata": {},
   "outputs": [
    {
     "name": "stdout",
     "output_type": "stream",
     "text": [
      "set()\n"
     ]
    }
   ],
   "source": [
    "#Clear method - Remove all item from set\n",
    "\n",
    "a={\"mango\",\"apple\",\"chikoo\",\"orange\",\"banana\",\"watermelon\"}\n",
    "a.clear()\n",
    "print(a)"
   ]
  },
  {
   "cell_type": "code",
   "execution_count": 20,
   "id": "04b75748",
   "metadata": {},
   "outputs": [
    {
     "ename": "NameError",
     "evalue": "name 'a' is not defined",
     "output_type": "error",
     "traceback": [
      "\u001b[1;31m---------------------------------------------------------------------------\u001b[0m",
      "\u001b[1;31mNameError\u001b[0m                                 Traceback (most recent call last)",
      "\u001b[1;32m~\\AppData\\Local\\Temp/ipykernel_3580/2598387483.py\u001b[0m in \u001b[0;36m<module>\u001b[1;34m\u001b[0m\n\u001b[0;32m      4\u001b[0m \u001b[1;33m\u001b[0m\u001b[0m\n\u001b[0;32m      5\u001b[0m \u001b[1;32mdel\u001b[0m \u001b[0ma\u001b[0m\u001b[1;33m\u001b[0m\u001b[1;33m\u001b[0m\u001b[0m\n\u001b[1;32m----> 6\u001b[1;33m \u001b[0mprint\u001b[0m\u001b[1;33m(\u001b[0m\u001b[0ma\u001b[0m\u001b[1;33m)\u001b[0m\u001b[1;33m\u001b[0m\u001b[1;33m\u001b[0m\u001b[0m\n\u001b[0m",
      "\u001b[1;31mNameError\u001b[0m: name 'a' is not defined"
     ]
    }
   ],
   "source": [
    "#Del method- It deletes the whole set\n",
    "\n",
    "a={\"mango\",\"apple\",\"chikoo\",\"orange\",\"banana\",\"watermelon\"}\n",
    "\n",
    "del a\n",
    "print(a)"
   ]
  },
  {
   "cell_type": "code",
   "execution_count": 21,
   "id": "f115e47c",
   "metadata": {},
   "outputs": [
    {
     "name": "stdout",
     "output_type": "stream",
     "text": [
      "{'apple', 'watermelon', 'banana', 'orange', 'chikoo', 'mango'}\n"
     ]
    }
   ],
   "source": [
    "#SET operations\n",
    "#Union of two sets - It simply merges two sets.\n",
    "\n",
    "Fruits1={\"mango\",\"apple\",\"chikoo\"}\n",
    "Fruits2={\"orange\",\"banana\",\"watermelon\"}\n",
    "\n",
    "# \"|\" operator is used for union\n",
    "\n",
    "Basket= Fruits1 | Fruits2\n",
    "print(Basket)"
   ]
  },
  {
   "cell_type": "code",
   "execution_count": 22,
   "id": "a3279033",
   "metadata": {},
   "outputs": [
    {
     "name": "stdout",
     "output_type": "stream",
     "text": [
      "{'apple', 'watermelon', 'banana', 'orange', 'chikoo', 'mango'}\n"
     ]
    }
   ],
   "source": [
    "#Another method for union is using union()\n",
    "\n",
    "Fruits1={\"mango\",\"apple\",\"chikoo\"}\n",
    "Fruits2={\"orange\",\"banana\",\"watermelon\"}\n",
    "\n",
    "# union() is used for union\n",
    "\n",
    "Basket= Fruits1.union(Fruits2)\n",
    "print(Basket)"
   ]
  },
  {
   "cell_type": "code",
   "execution_count": 23,
   "id": "c062c435",
   "metadata": {},
   "outputs": [
    {
     "name": "stdout",
     "output_type": "stream",
     "text": [
      "{'orange'}\n"
     ]
    }
   ],
   "source": [
    "#Intersection:- Gives us the common element from both sets\n",
    "\n",
    "Fruits1={\"mango\",\"apple\",\"chikoo\",\"orange\"}\n",
    "Fruits2={\"orange\",\"banana\",\"watermelon\"}\n",
    "\n",
    "# \"&\" operator is used for union\n",
    "\n",
    "Basket= Fruits1 & Fruits2 \n",
    "print(Basket)"
   ]
  },
  {
   "cell_type": "code",
   "execution_count": 24,
   "id": "e79137bb",
   "metadata": {},
   "outputs": [
    {
     "name": "stdout",
     "output_type": "stream",
     "text": [
      "{'apple', 'cherry', 'chikoo', 'mango'}\n"
     ]
    }
   ],
   "source": [
    "#difference - It removes the common element from the first set and gives the rest element as output\n",
    "\n",
    "Fruits1={\"mango\",\"apple\",\"chikoo\",\"orange\",\"cherry\"}\n",
    "Fruits2={\"orange\",\"banana\",\"watermelon\"}\n",
    "\n",
    "#\"-\" is the operator to be used\n",
    "\n",
    "Basket = Fruits1 - Fruits2\n",
    "print(Basket)"
   ]
  },
  {
   "cell_type": "code",
   "execution_count": 25,
   "id": "17abd231",
   "metadata": {},
   "outputs": [
    {
     "name": "stdout",
     "output_type": "stream",
     "text": [
      "{'apple', 'cherry', 'chikoo', 'mango'}\n"
     ]
    }
   ],
   "source": [
    "#Another method for difference is difference()\n",
    "\n",
    "Fruits1={\"mango\",\"apple\",\"chikoo\",\"orange\",\"cherry\"}\n",
    "Fruits2={\"orange\",\"banana\",\"watermelon\"}\n",
    "\n",
    "#using difference ()\n",
    "\n",
    "Basket = Fruits1.difference(Fruits2)\n",
    "print(Basket)"
   ]
  },
  {
   "cell_type": "code",
   "execution_count": 27,
   "id": "97584ddd",
   "metadata": {},
   "outputs": [
    {
     "name": "stdout",
     "output_type": "stream",
     "text": [
      "{'chikoo', 'mango', 'apple', 'cherry', 'watermelon', 'banana'}\n"
     ]
    }
   ],
   "source": [
    "#Symmetric difference - Filters out the common element and prints rest of the element\n",
    "\n",
    "Fruits1={\"mango\",\"apple\",\"chikoo\",\"orange\",\"cherry\"}\n",
    "Fruits2={\"orange\",\"banana\",\"watermelon\"}\n",
    "\n",
    "#\"^\" is used for the same\n",
    "\n",
    "Basket = Fruits1 ^ Fruits2\n",
    "print(Basket)"
   ]
  },
  {
   "cell_type": "code",
   "execution_count": 29,
   "id": "fc1febf8",
   "metadata": {},
   "outputs": [
    {
     "name": "stdout",
     "output_type": "stream",
     "text": [
      "{'chikoo', 'mango', 'apple', 'cherry', 'watermelon', 'banana'}\n"
     ]
    }
   ],
   "source": [
    "#symmetric_difference() is another method used for the same\n",
    "\n",
    "Fruits1={\"mango\",\"apple\",\"chikoo\",\"orange\",\"cherry\"}\n",
    "Fruits2={\"orange\",\"banana\",\"watermelon\"}\n",
    "\n",
    "#symmetric_difference() is another method\n",
    "\n",
    "Basket = Fruits1.symmetric_difference(Fruits2)\n",
    "print(Basket)"
   ]
  },
  {
   "cell_type": "code",
   "execution_count": 30,
   "id": "e5dceee5",
   "metadata": {},
   "outputs": [
    {
     "name": "stdout",
     "output_type": "stream",
     "text": [
      "True\n",
      "False\n"
     ]
    }
   ],
   "source": [
    "#to check whether set2 is subset of set1. Some elements should be common in first set. It returs true if it is subset of returns false.\n",
    "\n",
    "Set1={1,2,3,6,4,8,6}\n",
    "Set2={1,2,3}\n",
    "print(Set2.issubset(Set1))\n",
    "print(Set1.issubset(Set2))      "
   ]
  },
  {
   "cell_type": "code",
   "execution_count": 31,
   "id": "ed98df74",
   "metadata": {},
   "outputs": [
    {
     "name": "stdout",
     "output_type": "stream",
     "text": [
      "False\n",
      "True\n"
     ]
    }
   ],
   "source": [
    "#Disjoint - If neither of elements are present in any of the sets. Then this returs true.\n",
    "\n",
    "Set1={1,2,3,6,4,8,6}\n",
    "Set2={1,2,3}\n",
    "Set3={7,9}\n",
    "print(Set2.isdisjoint(Set1))\n",
    "print(Set3.isdisjoint(Set1))   "
   ]
  },
  {
   "cell_type": "code",
   "execution_count": 32,
   "id": "60f96c9f",
   "metadata": {},
   "outputs": [
    {
     "name": "stdout",
     "output_type": "stream",
     "text": [
      "True\n"
     ]
    }
   ],
   "source": [
    "Set={1,2,3,4}\n",
    "print(all(Set))"
   ]
  },
  {
   "cell_type": "code",
   "execution_count": 33,
   "id": "c0e70a8e",
   "metadata": {},
   "outputs": [
    {
     "name": "stdout",
     "output_type": "stream",
     "text": [
      "True\n"
     ]
    }
   ],
   "source": [
    "b={0,2,4,5,6}\n",
    "print(any(b))"
   ]
  },
  {
   "cell_type": "code",
   "execution_count": 34,
   "id": "a0652a0a",
   "metadata": {},
   "outputs": [
    {
     "name": "stdout",
     "output_type": "stream",
     "text": [
      "True\n"
     ]
    }
   ],
   "source": [
    "c={True,True}\n",
    "print(all(c))"
   ]
  },
  {
   "cell_type": "code",
   "execution_count": 38,
   "id": "aa1db77c",
   "metadata": {},
   "outputs": [
    {
     "name": "stdout",
     "output_type": "stream",
     "text": [
      "8\n",
      "abc\n",
      "2\n",
      "ABC\n"
     ]
    }
   ],
   "source": [
    "r={2,4,6,8}\n",
    "s={\"ABC\",\"abc\"}\n",
    "\n",
    "print(max(r))\n",
    "\n",
    "print(max(s))\n",
    "\n",
    "print(min(r))\n",
    "\n",
    "print(min(s))"
   ]
  },
  {
   "cell_type": "code",
   "execution_count": null,
   "id": "66f77b78",
   "metadata": {},
   "outputs": [],
   "source": []
  },
  {
   "cell_type": "code",
   "execution_count": null,
   "id": "0b7acf86",
   "metadata": {},
   "outputs": [],
   "source": []
  }
 ],
 "metadata": {
  "kernelspec": {
   "display_name": "Python 3 (ipykernel)",
   "language": "python",
   "name": "python3"
  },
  "language_info": {
   "codemirror_mode": {
    "name": "ipython",
    "version": 3
   },
   "file_extension": ".py",
   "mimetype": "text/x-python",
   "name": "python",
   "nbconvert_exporter": "python",
   "pygments_lexer": "ipython3",
   "version": "3.9.7"
  }
 },
 "nbformat": 4,
 "nbformat_minor": 5
}
