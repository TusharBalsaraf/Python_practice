{
 "cells": [
  {
   "cell_type": "code",
   "execution_count": 4,
   "id": "f4b7a454",
   "metadata": {},
   "outputs": [
    {
     "name": "stdout",
     "output_type": "stream",
     "text": [
      "Length is 8\n",
      "Breadth is 5\n",
      "Area of rectangle is 40.0\n"
     ]
    }
   ],
   "source": [
    "length=float(input(\"Length is \"))\n",
    "breadth=float(input(\"Breadth is \"))\n",
    "area_of_rectangle = length*breadth\n",
    "print(\"Area of rectangle is\",area_of_rectangle)"
   ]
  },
  {
   "cell_type": "code",
   "execution_count": 8,
   "id": "d50e6448",
   "metadata": {},
   "outputs": [
    {
     "name": "stdout",
     "output_type": "stream",
     "text": [
      "-1\n"
     ]
    }
   ],
   "source": [
    "a = 3-4\n",
    "b = 4-7\n",
    "print (a)"
   ]
  },
  {
   "cell_type": "code",
   "execution_count": 10,
   "id": "a58f656c",
   "metadata": {},
   "outputs": [
    {
     "name": "stdout",
     "output_type": "stream",
     "text": [
      "Enter 1st number 3\n",
      "Enter 2nd number 4\n",
      "Result is  7\n"
     ]
    }
   ],
   "source": [
    "#asking the user to enter 1st and 2nd number\n",
    "a=int(input(\"Enter 1st number \"))\n",
    "b=int(input(\"Enter 2nd number \"))\n",
    "#calculating sum\n",
    "addition_of_numbers=a+b\n",
    "#printing the calculated area of rectangle\n",
    "print(\"Result is \",addition_of_numbers)"
   ]
  },
  {
   "cell_type": "code",
   "execution_count": 12,
   "id": "df3d40c7",
   "metadata": {},
   "outputs": [
    {
     "name": "stdout",
     "output_type": "stream",
     "text": [
      "Length is 4\n",
      "Breadth is 5\n",
      "Perimeter of rectangle is 13.0\n"
     ]
    }
   ],
   "source": [
    "length=float(input(\"Length is \"))\n",
    "breadth=float(input(\"Breadth is \"))\n",
    "perimeter_of_rectangle = 2*length+breadth\n",
    "print(\"Perimeter of rectangle is\",perimeter_of_rectangle)"
   ]
  },
  {
   "cell_type": "code",
   "execution_count": 14,
   "id": "1a403e0f",
   "metadata": {},
   "outputs": [
    {
     "name": "stdout",
     "output_type": "stream",
     "text": [
      "Principal amount is 3000\n",
      "Rate is 20\n",
      "Interest is 3\n",
      "Simple interest is 1800.0\n"
     ]
    }
   ],
   "source": [
    "p=float(input(\"Principal amount is \"))\n",
    "r=float(input(\"Rate is \"))\n",
    "i=float(input(\"Interest is \"))\n",
    "simple_interest=p*r*i/100\n",
    "print(\"Simple interest is\",simple_interest)"
   ]
  },
  {
   "cell_type": "code",
   "execution_count": 16,
   "id": "ba28e524",
   "metadata": {},
   "outputs": [
    {
     "name": "stdout",
     "output_type": "stream",
     "text": [
      "Enter temperature in Celsius 45\n",
      "Temperature in Faranheit is 113.0\n"
     ]
    }
   ],
   "source": [
    "c=int(input(\"Enter temperature in Celsius \"))\n",
    "Faranheit=9/5*c+32\n",
    "print(\"Temperature in Faranheit is\",Faranheit)"
   ]
  },
  {
   "cell_type": "code",
   "execution_count": 18,
   "id": "41885512",
   "metadata": {},
   "outputs": [
    {
     "name": "stdout",
     "output_type": "stream",
     "text": [
      "Enter radius of circle 5\n",
      "Circumference of circle is  31.400000000000002\n",
      "Area of circle is  78.5\n"
     ]
    }
   ],
   "source": [
    "pie = 3.14\n",
    "r = int(input(\"Enter radius of circle \"))\n",
    "circumference=2*pie*r\n",
    "area=pie*r**2\n",
    "print(\"Circumference of circle is \",circumference)\n",
    "print(\"Area of circle is \",area)"
   ]
  },
  {
   "cell_type": "code",
   "execution_count": 23,
   "id": "0c7407cf",
   "metadata": {},
   "outputs": [
    {
     "name": "stdout",
     "output_type": "stream",
     "text": [
      "Enter the side of cube 3\n",
      "Enter length of cuboid 2\n",
      "Enter breadth of cuboid 4\n",
      "Enter height of cuboid 6\n",
      "Surface area of cube 18\n",
      "Surface area of cuboid 88\n",
      "Volume of cube 8\n",
      "Volume of cuboid 48\n"
     ]
    }
   ],
   "source": [
    "c=int(input(\"Enter the side of cube \"))\n",
    "l=int(input(\"Enter length of cuboid \"))\n",
    "b=int(input(\"Enter breadth of cuboid \"))\n",
    "h=int(input(\"Enter height of cuboid \"))\n",
    "surface_area_of_cube=6*c\n",
    "surface_area_of_cuboid=2*(l*b+b*h+h*l)\n",
    "volume_of_cube=l**3\n",
    "volume_of_cuboid=l*b*h\n",
    "print(\"Surface area of cube\",surface_area_of_cube)\n",
    "print(\"Surface area of cuboid\",surface_area_of_cuboid)\n",
    "print(\"Volume of cube\",volume_of_cube)\n",
    "print(\"Volume of cuboid\",volume_of_cuboid)"
   ]
  },
  {
   "cell_type": "code",
   "execution_count": 24,
   "id": "f6661547",
   "metadata": {},
   "outputs": [
    {
     "name": "stdout",
     "output_type": "stream",
     "text": [
      "Enter value :- 2\n",
      "2.0\n",
      "4.0\n",
      "8.0\n",
      "16.0\n",
      "32.0\n",
      "64.0\n",
      "128.0\n",
      "256.0\n",
      "512.0\n",
      "1024.0\n"
     ]
    }
   ],
   "source": [
    "n = float(input(\"Enter value :- \"))\n",
    "value_1=n**1\n",
    "value_2=n**2\n",
    "value_3=n**3\n",
    "value_4=n**4\n",
    "value_5=n**5\n",
    "value_6=n**6\n",
    "value_7=n**7\n",
    "value_8=n**8\n",
    "value_9=n**9\n",
    "value_10=n**10\n",
    "print(value_1)\n",
    "print(value_2)\n",
    "print(value_3)\n",
    "print(value_4)\n",
    "print(value_5)\n",
    "print(value_6)\n",
    "print(value_7)\n",
    "print(value_8)\n",
    "print(value_9)\n",
    "print(value_10)\n"
   ]
  },
  {
   "cell_type": "code",
   "execution_count": 26,
   "id": "a1492c6c",
   "metadata": {},
   "outputs": [
    {
     "name": "stdout",
     "output_type": "stream",
     "text": [
      "enter length3\n",
      "enter breadth2\n",
      "enter height5\n",
      "Area of swimming pool 25\n"
     ]
    }
   ],
   "source": [
    "l=int(input(\"enter length \"))\n",
    "b=int(input(\"enter breadth \"))\n",
    "h=int(input(\"enter height \"))\n",
    "v_1=l*b+b*h+h*l\n",
    "v_2=l*b\n",
    "v_3=v_1-v_2\n",
    "print(\"Area of swimming pool\",v_3)"
   ]
  },
  {
   "cell_type": "code",
   "execution_count": 1,
   "id": "2e18eb6d",
   "metadata": {},
   "outputs": [
    {
     "name": "stdout",
     "output_type": "stream",
     "text": [
      "Radius of bucket2\n",
      "Height of bucket4\n",
      "Area of bucket 50.239999999999995\n"
     ]
    }
   ],
   "source": [
    "r=int(input(\"Radius of bucket\"))\n",
    "h=int(input(\"Height of bucket\"))\n",
    "area_of_bucket=2*3.14*r*(r+h)\n",
    "area_of_circle=2*3.14*r**2\n",
    "area_of_buck=area_of_bucket-area_of_circle\n",
    "print(\"Area of bucket\",area_of_buck)"
   ]
  },
  {
   "cell_type": "code",
   "execution_count": 6,
   "id": "75d14e66",
   "metadata": {},
   "outputs": [
    {
     "name": "stdout",
     "output_type": "stream",
     "text": [
      "Enter side43\n",
      "area of equilateral triangle 800\n"
     ]
    }
   ],
   "source": [
    "s=int(input(\"Enter side\"))\n",
    "area=3**0.5/4*s**2\n",
    "print(\"area of equilateral triangle\",int(area))\n"
   ]
  },
  {
   "cell_type": "code",
   "execution_count": 10,
   "id": "0089af4b",
   "metadata": {},
   "outputs": [
    {
     "name": "stdout",
     "output_type": "stream",
     "text": [
      "Enter body mass 80\n",
      "Enter Height 1.67\n",
      "Body mass of a person 28.685144680698485\n"
     ]
    }
   ],
   "source": [
    "b=int(input(\"Enter body mass \"))\n",
    "h=float(input(\"Enter Height \"))\n",
    "BM=b/h**2\n",
    "print(\"Body mass of a person\",BM)"
   ]
  },
  {
   "cell_type": "code",
   "execution_count": 11,
   "id": "a1b0ea43",
   "metadata": {},
   "outputs": [
    {
     "name": "stdout",
     "output_type": "stream",
     "text": [
      "Enter lenghth of fan wings 4\n",
      "Enter breadth of fan wings 5\n",
      "Enter radii of fan6\n",
      "Area of Fan :-  286.08000000000004\n"
     ]
    }
   ],
   "source": [
    "l=int(input(\"Enter lenghth of fan wings \"))\n",
    "b=int(input(\"Enter breadth of fan wings \"))\n",
    "r=int(input(\"Enter radii of fan\"))\n",
    "area_c=2*3.14*r**2\n",
    "area_f=(l*b)*3\n",
    "area_fan=area_c+area_f\n",
    "print(\"Area of Fan :- \",area_fan)"
   ]
  },
  {
   "cell_type": "code",
   "execution_count": 19,
   "id": "aeeee53b",
   "metadata": {},
   "outputs": [
    {
     "name": "stdout",
     "output_type": "stream",
     "text": [
      "Length of roof 5\n",
      "Breadth of roof 8\n",
      "Side of led 6\n",
      "Enter lenghth of fan wings 7\n",
      "Enter breadth of fan wings 2\n",
      "Enter radii of fan 2\n",
      "Area of roof 437.12\n"
     ]
    }
   ],
   "source": [
    "#Roof\n",
    "a=int(input(\"Length of roof \"))\n",
    "x=int(input(\"Breadth of roof \"))\n",
    "#led\n",
    "c=int(input(\"Side of led \"))\n",
    "#fan\n",
    "l=int(input(\"Enter lenghth of fan wings \"))\n",
    "b=int(input(\"Enter breadth of fan wings \"))\n",
    "r=int(input(\"Enter radii of fan \"))\n",
    "#area of ceiling\n",
    "area_ceiling=a*x\n",
    "#area of led\n",
    "area_led=8*c**2\n",
    "#area of fan\n",
    "area_circle=3.14*r**2\n",
    "area_wings=(l*b)*3\n",
    "area_fan=2*(area_circle+area_wings)\n",
    "#areaof whole roof\n",
    "area_roof=area_ceiling+area_led+area_fan\n",
    "#fan\n",
    "print(\"Area of roof\", (area_roof))"
   ]
  },
  {
   "cell_type": "code",
   "execution_count": 20,
   "id": "92606dec",
   "metadata": {},
   "outputs": [
    {
     "name": "stdout",
     "output_type": "stream",
     "text": [
      "Length of glass window7\n",
      "Breadth of glass window5\n",
      "Length of upper flap8\n",
      "Breadth of upper flap2\n",
      "Length of side flap6\n",
      "Breadth of side flap2\n",
      "Area of Whole Window  161\n"
     ]
    }
   ],
   "source": [
    "#GLASS WINDOW\n",
    "\n",
    "w_l=int(input(\"Length of glass window\"))\n",
    "w_b=int(input(\"Breadth of glass window\"))\n",
    "area_glass_window=3*w_l*w_b\n",
    "\n",
    "#UPPER FLAP\n",
    "\n",
    "length_upper_flap=int(input(\"Length of upper flap\"))\n",
    "breadth_upper_flap=int(input(\"Breadth of upper flap\"))\n",
    "area_upper_flap=2*length_upper_flap*breadth_upper_flap\n",
    "\n",
    "#SIDE FLAP\n",
    "\n",
    "length_side_flap=int(input(\"Length of side flap\"))\n",
    "breadth_side_flap=int(input(\"Breadth of side flap\"))\n",
    "area_side_flap=2*length_side_flap*breadth_side_flap\n",
    "\n",
    "#WHOLE WINDOW\n",
    "\n",
    "area_window=area_glass_window+area_upper_flap+area_side_flap\n",
    "\n",
    "print(\"Area of Whole Window \",area_window)"
   ]
  },
  {
   "cell_type": "code",
   "execution_count": 25,
   "id": "0c936aea",
   "metadata": {},
   "outputs": [
    {
     "name": "stdout",
     "output_type": "stream",
     "text": [
      "Length of ac border 5\n",
      "Breadth of ac border 4\n",
      "Side of square 3\n",
      "Length of Air ventilator 2\n",
      "Breadth of Air ventilator 1\n",
      "Length of display 3\n",
      "Breadth of display 2\n",
      "Radius of wire 1\n",
      "Length of wire 8\n",
      "AREA OF AC :-  93.52000000000001\n"
     ]
    }
   ],
   "source": [
    "#AC\n",
    "\n",
    "#AC BORDER\n",
    "\n",
    "bor_l=int(input(\"Length of ac border \"))\n",
    "bor_b=int(input(\"Breadth of ac border \"))\n",
    "area_bor=bor_l*bor_b\n",
    "\n",
    "#Square\n",
    "\n",
    "square_side=int(input(\"Side of square \"))\n",
    "area_square=square_side**2\n",
    "\n",
    "#Air_Ventalitor\n",
    "\n",
    "av_l=int(input(\"Length of Air ventilator \"))\n",
    "av_b=int(input(\"Breadth of Air ventilator \"))\n",
    "area_av=av_l*av_b\n",
    "\n",
    "#Display\n",
    "\n",
    "dis_l=int(input(\"Length of display \"))\n",
    "dis_b=int(input(\"Breadth of display \"))\n",
    "area_dis=dis_l*dis_b\n",
    "\n",
    "#Wire\n",
    "\n",
    "w_r=int(input(\"Radius of wire \"))\n",
    "w_l=int(input(\"Length of wire \"))\n",
    "area_w=2*3.14*w_r*(w_r+w_l)\n",
    "\n",
    "#Area of full AC\n",
    "\n",
    "area_ac=area_bor+area_square+area_av+area_dis+area_w\n",
    "\n",
    "print(\"AREA OF AC :- \",area_ac)"
   ]
  },
  {
   "cell_type": "code",
   "execution_count": 5,
   "id": "c4e570c2",
   "metadata": {},
   "outputs": [
    {
     "name": "stdout",
     "output_type": "stream",
     "text": [
      "Enter number 14\n",
      "Number is divisible by 7\n"
     ]
    }
   ],
   "source": [
    "n=int(input(\"Enter number \"))\n",
    "if n%7==0:\n",
    "    print(\"Number is divisible by 7\")\n",
    "else:\n",
    "    print(n,\"Number is not divisible by 7\")"
   ]
  },
  {
   "cell_type": "code",
   "execution_count": 8,
   "id": "27f5b927",
   "metadata": {},
   "outputs": [
    {
     "name": "stdout",
     "output_type": "stream",
     "text": [
      "Enter the no. of days5\n",
      "The total charges will be 10\n"
     ]
    }
   ],
   "source": [
    "days=int(input(\"Enter the no. of days\"))\n",
    "if days<=5:\n",
    "    amt=days*2\n",
    "elif days>=6 and n<=10:\n",
    "    amt=days*3\n",
    "elif days>=11 and n<=15:\n",
    "    amt=days*4\n",
    "else:\n",
    "    amt+days*5\n",
    "print(\"The total charges will be\", amt)"
   ]
  },
  {
   "cell_type": "code",
   "execution_count": 4,
   "id": "521d72c8",
   "metadata": {},
   "outputs": [
    {
     "name": "stdout",
     "output_type": "stream",
     "text": [
      "Enter total number of days30\n",
      "Enter days of absent5\n",
      "Percentage of attendence is 83\n",
      "student is eligible\n"
     ]
    }
   ],
   "source": [
    "Q3) Accept the following from the user and calculate the percentage of class attended:\n",
    "\n",
    "a. Total number of working days\n",
    "\n",
    "b. Total number of days for absent\n",
    "\n",
    "After calculating percentage show that, If the percentage is less than 75, than student will not be able to sit in exam.\n",
    "\n",
    "\n",
    "#number of days\n",
    "n=int(input(\"Enter total number of days\"))\n",
    "a=int(input(\"Enter days of absent\"))\n",
    "#percentage present\n",
    "per=(n-a)/n*100\n",
    "print(\"Percentage of attendence is\",int(per))\n",
    "if per>=75:\n",
    "    print(\"student is eligible\")\n",
    "else:\n",
    "    print(\"student is not eligible\")"
   ]
  },
  {
   "cell_type": "code",
   "execution_count": 10,
   "id": "ca46f840",
   "metadata": {},
   "outputs": [
    {
     "name": "stdout",
     "output_type": "stream",
     "text": [
      "Enter the number 16\n",
      "The number is even\n"
     ]
    }
   ],
   "source": [
    "Q1) Write a Program to check whether the given number is odd or even\n",
    "\n",
    "# Take the Integer from the user:\n",
    "\n",
    "\n",
    "# Condition for to check whether the number is odd or even:\n",
    "\n",
    "\n",
    "num=int(input(\"Enter the number \"))\n",
    "x=num%2\n",
    "if x==0:\n",
    "    print(\"The number is even\")\n",
    "else:\n",
    "    print(\"The number is odd\")"
   ]
  },
  {
   "cell_type": "code",
   "execution_count": 20,
   "id": "fc2bd4de",
   "metadata": {},
   "outputs": [
    {
     "name": "stdout",
     "output_type": "stream",
     "text": [
      "Enter the first number :- 49\n",
      "Enter the second number :- 7\n",
      "The number is divisible\n"
     ]
    }
   ],
   "source": [
    "# Take 1st number from the user:\n",
    "\n",
    "# Take 2nd number from the user:\n",
    "\n",
    "# Print the condition to check whether the 1st number entered by the user is divisible by the second number entered by the user:\n",
    "\n",
    "num1=int(input(\"Enter the first number :- \"))\n",
    "num2=int(input(\"Enter the second number :- \"))\n",
    "xx1=num1%num2\n",
    "if xx1==0:\n",
    "    print(\"The number is divisible\")\n",
    "else:\n",
    "    print(\"The number is not divisible\")"
   ]
  },
  {
   "cell_type": "code",
   "execution_count": 23,
   "id": "ae0ea17d",
   "metadata": {},
   "outputs": [
    {
     "name": "stdout",
     "output_type": "stream",
     "text": [
      "Enter weight 80\n",
      "ENter height 15\n",
      "Underweight\n"
     ]
    }
   ],
   "source": [
    "# Ask the usesr to enter the weight (remember ----> Generally we say weight in points or (kg))\n",
    "\n",
    "# Ask the user to enter the height (remember ------> Generally we also consider heights in points (in meters))\n",
    "\n",
    "# Calculate the BMI (Body Mass Index)\n",
    "\n",
    "# After calculating the BMI, check out the calculated BMI with the conditions stated in the Questions \n",
    "\n",
    "# After checking print the BMI, check whether in which category does it belongs too\n",
    "\n",
    "\n",
    "w=int(input(\"Enter weight \"))\n",
    "h=int(input(\"ENter height \"))\n",
    "\n",
    "bmi=w/h**2\n",
    "\n",
    "if bmi<18.5:\n",
    "    print(\"Underweight\")\n",
    "elif bmi<=24.9:\n",
    "    print(\"Normal\")\n",
    "elif bmi<=29.9:\n",
    "    print(\"Overweight\")\n",
    "elif bmi<=34.9:\n",
    "    print(\"Obese class 1\")\n",
    "elif bmi<=39.9:\n",
    "    print(\"Obese class 2\")\n",
    "else:\n",
    "    print(\"Obese class 3\")"
   ]
  },
  {
   "cell_type": "code",
   "execution_count": 32,
   "id": "ed21ecfe",
   "metadata": {},
   "outputs": [
    {
     "name": "stdout",
     "output_type": "stream",
     "text": [
      "Enter the length-1\n",
      "The Entry is invalid\n"
     ]
    }
   ],
   "source": [
    "# ask the user to enter the length in centimeters \n",
    "\n",
    "# Write down the conditions as well as the formula to convert length in centimeters into inches\n",
    "\n",
    "n=int(input(\"Enter the length\"))\n",
    "inch=n*2.54\n",
    "if n<0:\n",
    "    print(\"The Entry is invalid\")\n",
    "else:\n",
    "    print(\"The result is centimeters is \",inch)"
   ]
  },
  {
   "cell_type": "code",
   "execution_count": 37,
   "id": "15e653c1",
   "metadata": {},
   "outputs": [
    {
     "name": "stdout",
     "output_type": "stream",
     "text": [
      "How many items purchased100\n",
      "Total cost of items 7000\n"
     ]
    }
   ],
   "source": [
    "# ask the user to enter how many items that theyy want to buy\n",
    "\n",
    "# Write down the condition \n",
    "\n",
    "# Print the Total Cost (That person has bought) \n",
    "\n",
    "\n",
    "i=int(input(\"How many items purchased\"))\n",
    "t10=i*120\n",
    "t99=i*100\n",
    "t100=i*70\n",
    "if i<=10:\n",
    "    print(\"Total cost of items\",t10)\n",
    "elif 11<i<=99:\n",
    "    print(\"Total cost of items\",t99)\n",
    "else:\n",
    "    print(\"Total cost of items\",t100)"
   ]
  },
  {
   "cell_type": "code",
   "execution_count": 42,
   "id": "63ce6cf8",
   "metadata": {},
   "outputs": [
    {
     "name": "stdout",
     "output_type": "stream",
     "text": [
      "Enter 1st side of triangle 2\n",
      "Enter 2nd side of triangle 3\n",
      "Enter 3rd side of triangle 9\n",
      "It is a triangle\n"
     ]
    }
   ],
   "source": [
    "# Ask the user to enter the three sides of the rectangle \n",
    "\n",
    "# Apply the hint as stated in the Question to check whether the value entered by the user will form a traingle or not.\n",
    "\n",
    "s1=int(input(\"Enter 1st side of triangle \"))\n",
    "s2=int(input(\"Enter 2nd side of triangle \"))\n",
    "s3=int(input(\"Enter 3rd side of triangle \"))\n",
    "\n",
    "if s1+s2>s3:\n",
    "    print(\"It is a triangle\")\n",
    "elif s2+s3>s1:\n",
    "    print(\"It is a triangle\")\n",
    "elif s1+s3>s2:\n",
    "    print(\"It is a triangle\")\n",
    "else:\n",
    "    print(\"It is not a triangle\")"
   ]
  },
  {
   "cell_type": "code",
   "execution_count": 47,
   "id": "dc3d3dd0",
   "metadata": {},
   "outputs": [
    {
     "name": "stdout",
     "output_type": "stream",
     "text": [
      "Enter units consumed :- 250\n",
      "Total charges are  2500\n"
     ]
    }
   ],
   "source": [
    "# Ask the user to enter the number of units consumed.\n",
    "\n",
    "# State the condition and print the total amount to pay\n",
    "\n",
    "u=int(input(\"Enter units consumed :- \"))\n",
    "if u<=100:\n",
    "    print(\"No charge\")\n",
    "elif u<=200 and u>100:\n",
    "    print(\"Total charges are \",u*5)\n",
    "else:\n",
    "    print(\"Total charges are \",u*10)"
   ]
  },
  {
   "cell_type": "code",
   "execution_count": 53,
   "id": "bc150be0",
   "metadata": {},
   "outputs": [
    {
     "name": "stdout",
     "output_type": "stream",
     "text": [
      "Enter year 4001\n",
      "It is not a leap year\n"
     ]
    }
   ],
   "source": [
    "# ask the user to enter the year\n",
    "\n",
    "# Write a condition to check whether the year is leap year or not a leap year.\n",
    "\n",
    "y=int(input(\"Enter year \"))\n",
    "if y%100==0:\n",
    "    print(\"It is a leap year\")\n",
    "if y%400==0:\n",
    "    print(\"It is a leap year\")\n",
    "else:\n",
    "    print(\"Its is not a leap year\")\n",
    "else:\n",
    "    print(\"It is not a leap year\")"
   ]
  },
  {
   "cell_type": "code",
   "execution_count": 23,
   "id": "f681bd0f",
   "metadata": {},
   "outputs": [
    {
     "name": "stdout",
     "output_type": "stream",
     "text": [
      "Enter 1st number :- 6\n",
      "Enter 2nd number :- 7\n",
      "Enter operator [+ - * / % ] :- *\n",
      "The result is  42\n"
     ]
    }
   ],
   "source": [
    "#Write a program to accept two numbers and mathematical operators and perform operation accordingly.\n",
    "\n",
    "a=int(input(\"Enter 1st number :- \"))\n",
    "b=int(input(\"Enter 2nd number :- \"))\n",
    "c=input(\"Enter operator [+ - * / % ] :- \")\n",
    "\n",
    "if c==\"+\":\n",
    "    print(\"The result is \",a+b)\n",
    "elif c==\"-\":\n",
    "    print(\"The result is \",a-b)\n",
    "elif c==\"*\":\n",
    "    print(\"The result is \",a*b)\n",
    "elif c==\"/\":\n",
    "    print(\"The result is \",a/b)\n",
    "elif c==\"%\":\n",
    "    print(\"The result is \",a%b)\n",
    "else:\n",
    "    print(\"Invalid operator\")\n",
    "\n"
   ]
  },
  {
   "cell_type": "code",
   "execution_count": 4,
   "id": "fad72ab6",
   "metadata": {},
   "outputs": [
    {
     "name": "stdout",
     "output_type": "stream",
     "text": [
      "Enter kms 85\n",
      "Total charge is  850\n"
     ]
    }
   ],
   "source": [
    "# Ask the user to enter the total number of kilometers covered\n",
    "\n",
    "# State the condition and calculate the total amount to be paid\n",
    "\n",
    "kms=int(input(\"Enter kms \"))\n",
    "if kms<=10:\n",
    "    print(\"Total charge is \",kms*11)\n",
    "elif 11<kms<=100:\n",
    "    print(\"Total charge is \",kms*10)\n",
    "else:\n",
    "    print(\"Total charge is \",kms*9)"
   ]
  },
  {
   "cell_type": "code",
   "execution_count": 6,
   "id": "f2336fb5",
   "metadata": {},
   "outputs": [
    {
     "name": "stdout",
     "output_type": "stream",
     "text": [
      "Enter 1st side of triangle5\n",
      "Enter 2nd side of triangle9\n",
      "Enter 3rd side of triangle6\n",
      "It is a scalene triangle\n"
     ]
    }
   ],
   "source": [
    "# Ask the user to enter the sides of the triangle\n",
    "\n",
    "# State the condition to check whether the traingle is an equilateral, isosceles or a scalene triangle\n",
    "\n",
    "x=int(input(\"Enter 1st side of triangle\"))\n",
    "y=int(input(\"Enter 2nd side of triangle\"))\n",
    "z=int(input(\"Enter 3rd side of triangle\"))\n",
    "if x==y and y==z:\n",
    "    print(\"It is an equilateral triangle\")\n",
    "elif x==y and y!=z or y==z and x!=z and x==z and y!=x:\n",
    "    print(\"It is an isoceles triangle\")\n",
    "else:\n",
    "    print(\"It is a scalene triangle\")"
   ]
  },
  {
   "cell_type": "code",
   "execution_count": 3,
   "id": "a3085b57",
   "metadata": {},
   "outputs": [
    {
     "name": "stdout",
     "output_type": "stream",
     "text": [
      "Enter radius :- 5\n",
      "1. Area of circle \n",
      "2. Perimeter of circle \n",
      "Choose any one 3\n",
      "Invalid entry\n"
     ]
    }
   ],
   "source": [
    "side=int(input(\"Enter radius :- \"))\n",
    "area=3.14*side**2\n",
    "perimeter=2*3.14*side\n",
    "print(\"Choose anyone of the following :- \")\n",
    "print(\"1. Area of circle \")\n",
    "print(\"2. Perimeter of circle \")\n",
    "ch=int(input(\"Choose any one \"))\n",
    "if ch==1: \n",
    "    print(\"Area of triangle is \", area)\n",
    "elif ch==2:\n",
    "    print(\"Perimeter of triangle is \", perimeter)\n",
    "else:\n",
    "    print(\"Invalid entry\")"
   ]
  },
  {
   "cell_type": "code",
   "execution_count": 9,
   "id": "796f1a25",
   "metadata": {},
   "outputs": [
    {
     "name": "stdout",
     "output_type": "stream",
     "text": [
      "0\n",
      "1\n",
      "2\n",
      "3\n",
      "4\n",
      "5\n",
      "6\n"
     ]
    }
   ],
   "source": [
    "#FOR LOOOP\n",
    "\n",
    "for a in range (0,7):\n",
    "    print (a)"
   ]
  },
  {
   "cell_type": "code",
   "execution_count": null,
   "id": "aeacec89",
   "metadata": {},
   "outputs": [],
   "source": []
  }
 ],
 "metadata": {
  "kernelspec": {
   "display_name": "Python 3 (ipykernel)",
   "language": "python",
   "name": "python3"
  },
  "language_info": {
   "codemirror_mode": {
    "name": "ipython",
    "version": 3
   },
   "file_extension": ".py",
   "mimetype": "text/x-python",
   "name": "python",
   "nbconvert_exporter": "python",
   "pygments_lexer": "ipython3",
   "version": "3.9.7"
  }
 },
 "nbformat": 4,
 "nbformat_minor": 5
}
