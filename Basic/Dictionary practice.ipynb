{
 "cells": [
  {
   "cell_type": "code",
   "execution_count": 5,
   "id": "894f2fe4",
   "metadata": {},
   "outputs": [
    {
     "name": "stdout",
     "output_type": "stream",
     "text": [
      "{'name': 'Tushar', 'Place': 'Kalyan', 'age': 25, 'Hobby': 'Trekking'}\n",
      "{'name': 'Tushar', 'Place': 'Kalyan', 'age': 25, 'Hobby': 'Trekking'}\n",
      "{'name': 'Tushar', 'Place': 'Kalyan', 'age': 25, 'Hobby': 'Trekking'}\n"
     ]
    }
   ],
   "source": [
    "#Creating a dictionary\n",
    "\n",
    "#Using {}\n",
    "details = {\"name\" : \"Tushar\", \"Place\": \"Kalyan\", \"age\": 25, \"Hobby\": \"Trekking\"}\n",
    "print(details)\n",
    "\n",
    "#Using dict() constructer\n",
    "details = dict({\"name\" : \"Tushar\", \"Place\": \"Kalyan\", \"age\": 25, \"Hobby\": \"Trekking\"})\n",
    "print(details)\n",
    "\n",
    "#Using ([()])\n",
    "\n",
    "details = dict([(\"name\" , \"Tushar\"),(\"Place\", \"Kalyan\"),(\"age\", 25), (\"Hobby\",\"Trekking\")])\n",
    "print(details)"
   ]
  },
  {
   "cell_type": "code",
   "execution_count": 8,
   "id": "dc2c175c",
   "metadata": {},
   "outputs": [
    {
     "name": "stdout",
     "output_type": "stream",
     "text": [
      "<class 'dict'>\n",
      "<class 'set'>\n"
     ]
    }
   ],
   "source": [
    "#how to print type of empty dictionary\n",
    "\n",
    "emp={}\n",
    "print(type(emp))\n",
    "\n",
    "emp=set()\n",
    "print(type(emp))"
   ]
  },
  {
   "cell_type": "code",
   "execution_count": 9,
   "id": "371ab019",
   "metadata": {},
   "outputs": [
    {
     "name": "stdout",
     "output_type": "stream",
     "text": [
      "{'name': 'Tushar', 'Place': 'Kalyan', 'age': 25, 'Hobby': 'Cycling'}\n"
     ]
    }
   ],
   "source": [
    "#In Dictionaries, no items does not get repeated.\n",
    "\n",
    "details = dict({\"name\" : \"Tushar\", \"Place\": \"Kalyan\", \"age\": 25, \"Hobby\": \"Trekking\",\"Hobby\":\"Cycling\"})\n",
    "print(details)"
   ]
  },
  {
   "cell_type": "code",
   "execution_count": 10,
   "id": "7fe4c594",
   "metadata": {},
   "outputs": [
    {
     "name": "stdout",
     "output_type": "stream",
     "text": [
      "{'name': 'Tushar', 'Place': 'Kalyan', 'age': 25, 'Hobby': ['Trekking', 'Cycling']}\n"
     ]
    }
   ],
   "source": [
    "#For repeated values the values should be given in square bracket.\n",
    "\n",
    "details = dict({\"name\" : \"Tushar\", \"Place\": \"Kalyan\", \"age\": 25, \"Hobby\": [\"Trekking\",\"Cycling\"]})\n",
    "print(details)"
   ]
  },
  {
   "cell_type": "code",
   "execution_count": 13,
   "id": "152d8849",
   "metadata": {},
   "outputs": [
    {
     "name": "stdout",
     "output_type": "stream",
     "text": [
      "Tushar\n",
      "Kalyan\n"
     ]
    }
   ],
   "source": [
    "#Access values using names of items by using [].\n",
    "\n",
    "details = dict({\"name\" : \"Tushar\", \"Place\": \"Kalyan\", \"age\": 25, \"Hobby\": \"Trekking\"})\n",
    "print(details[\"name\"])\n",
    "\n",
    "\n",
    "#Using .get()\n",
    "details = dict({\"name\" : \"Tushar\", \"Place\": \"Kalyan\", \"age\": 25, \"Hobby\": \"Trekking\"})\n",
    "print(details.get(\"Place\"))"
   ]
  },
  {
   "cell_type": "code",
   "execution_count": 22,
   "id": "aae10bff",
   "metadata": {},
   "outputs": [
    {
     "name": "stdout",
     "output_type": "stream",
     "text": [
      "dict_keys(['name', 'Place', 'age', 'Hobby'])\n",
      "<class 'dict_keys'>\n",
      "dict_values(['Tushar', 'Kalyan', 25, 'Trekking'])\n",
      "<class 'dict_values'>\n",
      "dict_items([('name', 'Tushar'), ('Place', 'Kalyan'), ('age', 25), ('Hobby', 'Trekking')])\n",
      "<class 'dict_items'>\n"
     ]
    }
   ],
   "source": [
    "#Get all keys and values. And it also display whether it is items, keys or values.\n",
    "\n",
    "details = {\"name\" : \"Tushar\", \"Place\": \"Kalyan\", \"age\": 25, \"Hobby\": \"Trekking\"}\n",
    "\n",
    "#print only keys name\n",
    "print(details.keys())\n",
    "print(type(details.keys()))\n",
    "\n",
    "#print only values\n",
    "print(details.values())\n",
    "print(type(details.values()))\n",
    "\n",
    "#print only items\n",
    "\n",
    "print(details.items())\n",
    "print(type(details.items()))"
   ]
  },
  {
   "cell_type": "code",
   "execution_count": 23,
   "id": "7687a8e4",
   "metadata": {},
   "outputs": [
    {
     "name": "stdout",
     "output_type": "stream",
     "text": [
      "4\n"
     ]
    }
   ],
   "source": [
    "#Length of dictionary\n",
    "\n",
    "print(len(details))"
   ]
  },
  {
   "cell_type": "code",
   "execution_count": 28,
   "id": "6e7e9e19",
   "metadata": {},
   "outputs": [
    {
     "name": "stdout",
     "output_type": "stream",
     "text": [
      "{'name': 'Tushar', 'Place': 'Kalyan', 'age': 25, 'Hobby': 'Trekking', 'DOB': '28/11/1997'}\n",
      "{'name': 'Tushar', 'Place': 'Kalyan', 'age': 25, 'Hobby': 'Trekking', 'DOB': '28/11/1997'}\n"
     ]
    }
   ],
   "source": [
    "#Adding of dictionaries\n",
    "\n",
    "details = dict({\"name\" : \"Tushar\", \"Place\": \"Kalyan\", \"age\": 25, \"Hobby\": \"Trekking\"})\n",
    "\n",
    "#adding by using []\n",
    "\n",
    "details[\"DOB\"]= \"28/11/1997\"\n",
    "print(details)\n",
    "\n",
    "#details.update({})\n",
    "\n",
    "details.update({\"DOB\" : \"28/11/1997\"})\n",
    "print(details)"
   ]
  },
  {
   "cell_type": "code",
   "execution_count": 32,
   "id": "7220b822",
   "metadata": {},
   "outputs": [
    {
     "name": "stdout",
     "output_type": "stream",
     "text": [
      "{'name': 'Tushar', 'Place': 'Kalyan', 'age': 25, 'Hobby': 'Trekking', 'DOB': '28/11/1997', 'weight': 70}\n",
      "{'name': 'Tushar', 'Place': 'Kalyan', 'age': 25, 'Hobby': 'Trekking', 'DOB': '28/11/1997', 'weight': 70, 'City': 'Mumbai', 'Company': 'Net Tech India'}\n"
     ]
    }
   ],
   "source": [
    "#We can also add one or more items using update\n",
    "\n",
    "details = dict({\"name\" : \"Tushar\", \"Place\": \"Kalyan\", \"age\": 25, \"Hobby\": \"Trekking\"})\n",
    "\n",
    "details.update({\"DOB\":\"28/11/1997\", \"weight\":70})\n",
    "\n",
    "print(details)\n",
    "\n",
    "#new items as a list of tuple\n",
    "\n",
    "details.update([(\"City\",\"Mumbai\"), (\"Company\",\"Net Tech India\",)])\n",
    "print(details)\n"
   ]
  },
  {
   "cell_type": "code",
   "execution_count": 34,
   "id": "c1a16c45",
   "metadata": {},
   "outputs": [
    {
     "name": "stdout",
     "output_type": "stream",
     "text": [
      "{'Sanvee': 80, 'Tushar': 58, 'Sujit': 78, 'Nikhil': 69, 'Kishor': 56, 'Raj': 98}\n"
     ]
    }
   ],
   "source": [
    "#How to merge two dictionaries\n",
    "\n",
    "dict_one={\"Sanvee\":80,\"Tushar\":58,\"Sujit\":78}\n",
    "dict_two={\"Nikhil\":69,\"Kishor\":56,\"Raj\":98}\n",
    "\n",
    "#Copying dictionary one into two\n",
    "\n",
    "dict_one.update(dict_two)\n",
    "print(dict_one)\n"
   ]
  },
  {
   "cell_type": "code",
   "execution_count": 35,
   "id": "7df899a0",
   "metadata": {},
   "outputs": [
    {
     "name": "stdout",
     "output_type": "stream",
     "text": [
      "{'Sanvee': 80, 'Tushar': 58, 'Sujit': 78, 'Nikhil': 69, 'Kishor': 56, 'Raj': 98, 'Heenal': 65, 'Tim': 60}\n"
     ]
    }
   ],
   "source": [
    "#Merge using \"**\"\n",
    "\n",
    "dict_one={\"Sanvee\":80,\"Tushar\":58,\"Sujit\":78}\n",
    "dict_two={\"Nikhil\":69,\"Kishor\":56,\"Raj\":98}\n",
    "dict_three={\"Heenal\":65,\"Tim\":78,\"Tim\":60}\n",
    "\n",
    "new_dict={**dict_one,**dict_two,**dict_three}\n",
    "\n",
    "print(new_dict)"
   ]
  },
  {
   "cell_type": "code",
   "execution_count": 43,
   "id": "cb80f318",
   "metadata": {},
   "outputs": [
    {
     "name": "stdout",
     "output_type": "stream",
     "text": [
      "{'Asia': 'India', 'Europe': 'America'}\n",
      "Russia\n",
      "{'Asia': 'India', 'Europe': 'Russia'}\n",
      "Ukraine\n",
      "{'Asia': 'India', 'Europe': 'Ukraine'}\n"
     ]
    }
   ],
   "source": [
    "#Modify values in items\n",
    "\n",
    "countries={\"Asia\":\"India\",\"Europe\":\"America\"}\n",
    "print(countries)\n",
    "\n",
    "#updating value of \"Europe\"\n",
    "\n",
    "countries[\"Europe\"]=\"Russia\"\n",
    "print(countries[\"Europe\"])\n",
    "print(countries)\n",
    "\n",
    "#updating using update() method\n",
    "\n",
    "countries.update({\"Europe\":\"Ukraine\"})\n",
    "print(countries[\"Europe\"])\n",
    "print(countries)"
   ]
  },
  {
   "cell_type": "code",
   "execution_count": 50,
   "id": "b0b92ebb",
   "metadata": {},
   "outputs": [
    {
     "name": "stdout",
     "output_type": "stream",
     "text": [
      "('Hobby', 'Trekking')\n",
      "{'name': 'Tushar', 'Place': 'Kalyan', 'age': 25}\n"
     ]
    }
   ],
   "source": [
    "#Removing from dictionary\n",
    "\n",
    "details = dict({\"name\" : \"Tushar\", \"Place\": \"Kalyan\", \"age\": 25, \"Hobby\": \"Trekking\"})\n",
    "\n",
    "#pop.item() method removes the last item from the dictionary\n",
    "deleted=details.popitem()\n",
    "print(deleted)\n",
    "print(details)"
   ]
  },
  {
   "cell_type": "code",
   "execution_count": 54,
   "id": "7de77660",
   "metadata": {},
   "outputs": [
    {
     "name": "stdout",
     "output_type": "stream",
     "text": [
      "Kalyan\n",
      "{'name': 'Tushar', 'age': 25, 'Hobby': 'Trekking'}\n"
     ]
    }
   ],
   "source": [
    "#Removing from using key name by pop()\n",
    "\n",
    "details = dict({\"name\" : \"Tushar\", \"Place\": \"Kalyan\", \"age\": 25, \"Hobby\": \"Trekking\"})\n",
    "\n",
    "deleted=details.pop(\"Place\")\n",
    "print(deleted)\n",
    "print(details)"
   ]
  },
  {
   "cell_type": "code",
   "execution_count": 57,
   "id": "0b4f9783",
   "metadata": {},
   "outputs": [
    {
     "name": "stdout",
     "output_type": "stream",
     "text": [
      "{'name': 'Tushar', 'age': 25, 'Hobby': 'Trekking'}\n"
     ]
    }
   ],
   "source": [
    "#Deleting key using del\n",
    "\n",
    "details = dict({\"name\" : \"Tushar\", \"Place\": \"Kalyan\", \"age\": 25, \"Hobby\": \"Trekking\"})\n",
    "del details['Place']\n",
    "print(details)"
   ]
  },
  {
   "cell_type": "code",
   "execution_count": 59,
   "id": "7c10c2ba",
   "metadata": {},
   "outputs": [
    {
     "name": "stdout",
     "output_type": "stream",
     "text": [
      "{}\n"
     ]
    }
   ],
   "source": [
    "#clearing dictionary using clear\n",
    "\n",
    "details = dict({\"name\" : \"Tushar\", \"Place\": \"Kalyan\", \"age\": 25, \"Hobby\": \"Trekking\"})\n",
    "details.clear()\n",
    "print(details)"
   ]
  },
  {
   "cell_type": "code",
   "execution_count": 60,
   "id": "e7bdd07e",
   "metadata": {},
   "outputs": [
    {
     "ename": "NameError",
     "evalue": "name 'details' is not defined",
     "output_type": "error",
     "traceback": [
      "\u001b[1;31m---------------------------------------------------------------------------\u001b[0m",
      "\u001b[1;31mNameError\u001b[0m                                 Traceback (most recent call last)",
      "\u001b[1;32m~\\AppData\\Local\\Temp/ipykernel_4884/3346903633.py\u001b[0m in \u001b[0;36m<module>\u001b[1;34m\u001b[0m\n\u001b[0;32m      4\u001b[0m \u001b[1;33m\u001b[0m\u001b[0m\n\u001b[0;32m      5\u001b[0m \u001b[1;32mdel\u001b[0m \u001b[0mdetails\u001b[0m\u001b[1;33m\u001b[0m\u001b[1;33m\u001b[0m\u001b[0m\n\u001b[1;32m----> 6\u001b[1;33m \u001b[0mprint\u001b[0m\u001b[1;33m(\u001b[0m\u001b[0mdetails\u001b[0m\u001b[1;33m)\u001b[0m\u001b[1;33m\u001b[0m\u001b[1;33m\u001b[0m\u001b[0m\n\u001b[0m",
      "\u001b[1;31mNameError\u001b[0m: name 'details' is not defined"
     ]
    }
   ],
   "source": [
    "#Deleting whole dictionary\n",
    "\n",
    "details = dict({\"name\" : \"Tushar\", \"Place\": \"Kalyan\", \"age\": 25, \"Hobby\": \"Trekking\"})\n",
    "\n",
    "del details\n",
    "print(details)"
   ]
  },
  {
   "cell_type": "code",
   "execution_count": 61,
   "id": "7b6c2a3a",
   "metadata": {},
   "outputs": [
    {
     "name": "stdout",
     "output_type": "stream",
     "text": [
      "{'Supriya': 'Pune', 'Trekary': 'Shirdi'}\n"
     ]
    }
   ],
   "source": [
    "#Copying a dictionary using \"=\"\n",
    "\n",
    "dict1={\"Supriya\":\"Pune\",\"Trekary\":\"Shirdi\"}\n",
    "dict2=dict1\n",
    "print(dict2)"
   ]
  },
  {
   "cell_type": "code",
   "execution_count": 65,
   "id": "2f2e8e6b",
   "metadata": {},
   "outputs": [
    {
     "name": "stdout",
     "output_type": "stream",
     "text": [
      "{'name': 'Tushar', 'Place': 'Kalyan', 'age': 25}\n",
      "{'name': 'Tushar', 'Place': 'Ghatkopar', 'age': 25}\n",
      "{'name': 'Tushar', 'Place': 'Kalyan', 'age': 25}\n"
     ]
    }
   ],
   "source": [
    "#Copying a dictionary using copy()\n",
    "\n",
    "details = dict({\"name\" : \"Tushar\", \"Place\": \"Kalyan\", \"age\": 25})\n",
    "details2=details.copy()\n",
    "print(details2)\n",
    "\n",
    "details2.update({\"Place\":\"Ghatkopar\"})\n",
    "print(details2)\n",
    "print(details)"
   ]
  },
  {
   "cell_type": "code",
   "execution_count": 71,
   "id": "75492ff6",
   "metadata": {},
   "outputs": [
    {
     "name": "stdout",
     "output_type": "stream",
     "text": [
      "[('a', 3), ('c', 8), ('e', 2), ('n', 6)]\n",
      "[2, 3, 6, 8]\n",
      "['a', 'c', 'e', 'n']\n"
     ]
    }
   ],
   "source": [
    "#sorting (ascending) order of sets\n",
    "\n",
    "new={\"c\":8,\"n\":6,\"a\":3,\"e\":2}\n",
    "\n",
    "print(sorted(new.items()))\n",
    "print(sorted(new.values()))\n",
    "print(sorted(new.keys()))"
   ]
  },
  {
   "cell_type": "code",
   "execution_count": null,
   "id": "cda28917",
   "metadata": {},
   "outputs": [],
   "source": []
  }
 ],
 "metadata": {
  "kernelspec": {
   "display_name": "Python 3 (ipykernel)",
   "language": "python",
   "name": "python3"
  },
  "language_info": {
   "codemirror_mode": {
    "name": "ipython",
    "version": 3
   },
   "file_extension": ".py",
   "mimetype": "text/x-python",
   "name": "python",
   "nbconvert_exporter": "python",
   "pygments_lexer": "ipython3",
   "version": "3.9.7"
  }
 },
 "nbformat": 4,
 "nbformat_minor": 5
}
