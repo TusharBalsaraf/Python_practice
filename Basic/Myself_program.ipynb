{
 "cells": [
  {
   "cell_type": "code",
   "execution_count": 15,
   "id": "81ac8faa",
   "metadata": {},
   "outputs": [
    {
     "name": "stdout",
     "output_type": "stream",
     "text": [
      "😀 Hello, here is something about me.🤗\n",
      "\tMy name is Tushar Deepak Balsaraf👦. My age is 24 years. I stay in Kalyan with my mother 👩, father 👨 and sister 👧. I graduated from Pune Vidyabhavan Vidyarthi Griha's College of Science and Technology 🏛 with Batchelor's degree 🕺 in the year 2018. I love programming 🧑 and favourite languages are python , sql , etc.\n",
      "\n",
      "\tBeside programming, I have hobbies like trekking 🧗, riding bike 🏍.I love visiting forts 🏕, studying their geographical importance and learn their architectural significance.Also I am fond of visiting waterfalls during monsoon.\n",
      "\n",
      "\tMy long-term goal is to work for an organization which provides me with the opportunity to improve my skills and knowledge to grow along with the organization's objective 👨.\n"
     ]
    }
   ],
   "source": [
    "q=\"\\U0001f600 Hello, here is something about me.\\U0001f917\"\n",
    "a=\"\\tMy name is Tushar Deepak Balsaraf\\U0001f466. My age is 24 years. I stay in Kalyan with my mother \\U0001f469, father \\U0001f468 and sister \\U0001f467.\"\n",
    "b=\"I graduated from Pune Vidyabhavan Vidyarthi Griha's College of Science and Technology \\U0001f3db with Batchelor's degree \\U0001f57a in the year 2018. I love programming \\U0001f9d1 and favourite languages are python , sql , etc.\\n\"\n",
    "d=\"\\tBeside programming, I have hobbies like trekking \\U0001f9d7, riding bike \\U0001f3cd.I love visiting forts \\U0001f3d5, studying their geographical importance and learn their architectural significance.Also I am fond of visiting waterfalls during monsoon.\\n\"\n",
    "e=\"\\tMy long-term goal is to work for an organization which provides me with the opportunity to improve my skills and knowledge to grow along with the organization's objective \\U0001f468.\"\n",
    "\n",
    "print(q)\n",
    "print(a,b)\n",
    "print(d)\n",
    "print(e)"
   ]
  },
  {
   "cell_type": "code",
   "execution_count": null,
   "id": "a0818195",
   "metadata": {},
   "outputs": [],
   "source": []
  }
 ],
 "metadata": {
  "kernelspec": {
   "display_name": "Python 3 (ipykernel)",
   "language": "python",
   "name": "python3"
  },
  "language_info": {
   "codemirror_mode": {
    "name": "ipython",
    "version": 3
   },
   "file_extension": ".py",
   "mimetype": "text/x-python",
   "name": "python",
   "nbconvert_exporter": "python",
   "pygments_lexer": "ipython3",
   "version": "3.9.7"
  }
 },
 "nbformat": 4,
 "nbformat_minor": 5
}
